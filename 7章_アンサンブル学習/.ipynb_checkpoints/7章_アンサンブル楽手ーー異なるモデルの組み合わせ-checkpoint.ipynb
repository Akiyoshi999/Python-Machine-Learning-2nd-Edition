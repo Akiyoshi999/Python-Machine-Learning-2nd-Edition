{
 "cells": [
  {
   "cell_type": "markdown",
   "metadata": {},
   "source": [
    "# 7_アンサンブル学習\n",
    "本章では以下の内容を取り上げる。\n",
    "- 多数決に基づく予測\n",
    "- バギングを使ってトレニンーグデータセットのランダムな組み合わせを繰り返し抽出することによる過学習の抑制\n",
    "- ブースティングの適用により、誤答から学習する「弱学習器」による強力なモデルの構築"
   ]
  },
  {
   "cell_type": "markdown",
   "metadata": {},
   "source": [
    "## 7.1 アンサンブルによる学習\n",
    "アンサンブル法8ensemble method)の目的は、さまざまな分類器を1つのメタ分類器として組み合わせことにある。分類器を個別に使用するよりも高い汎化性能が得られる。"
   ]
  },
  {
   "cell_type": "code",
   "execution_count": 1,
   "metadata": {},
   "outputs": [
    {
     "name": "stderr",
     "output_type": "stream",
     "text": [
      "C:\\Users\\zundo\\Anaconda3\\lib\\site-packages\\ipykernel_launcher.py:8: DeprecationWarning: `comb` is deprecated!\n",
      "Importing `comb` from scipy.misc is deprecated in scipy 1.0.0. Use `scipy.special.comb` instead.\n",
      "  \n"
     ]
    },
    {
     "data": {
      "text/plain": [
       "0.03432750701904297"
      ]
     },
     "execution_count": 1,
     "metadata": {},
     "output_type": "execute_result"
    }
   ],
   "source": [
    "from scipy.misc import comb\n",
    "import math\n",
    "def ensemble_error(n_classifier,error):\n",
    "    k_start = int(math.ceil(n_classifier / 2.))\n",
    "    probs = [comb(n_classifier,k) * \n",
    "            error**k *\n",
    "            (1-error)**(n_classifier-k)\n",
    "            for k in range(k_start,n_classifier + 1)]\n",
    "    return sum(probs)\n",
    "\n",
    "ensemble_error(n_classifier=11,error=0.25)"
   ]
  },
  {
   "cell_type": "code",
   "execution_count": 2,
   "metadata": {},
   "outputs": [
    {
     "name": "stderr",
     "output_type": "stream",
     "text": [
      "C:\\Users\\zundo\\Anaconda3\\lib\\site-packages\\ipykernel_launcher.py:8: DeprecationWarning: `comb` is deprecated!\n",
      "Importing `comb` from scipy.misc is deprecated in scipy 1.0.0. Use `scipy.special.comb` instead.\n",
      "  \n"
     ]
    },
    {
     "data": {
      "text/plain": [
       "<matplotlib.figure.Figure at 0x226f61bc7b8>"
      ]
     },
     "metadata": {},
     "output_type": "display_data"
    }
   ],
   "source": [
    "import numpy as np\n",
    "import matplotlib.pyplot as plt\n",
    "error_range = np.arange(0.0, 1.01, 0.01)\n",
    "ens_errors = [ensemble_error(n_classifier=11,error=error)\n",
    "                            for error in error_range]\n",
    "\n",
    "plt.plot(error_range,ens_errors,\n",
    "        label='Ensemble error',linewidth=2)\n",
    "plt.plot(error_range,error_range,\n",
    "        linestyle='--',label='Base error',linewidth=2)\n",
    "plt.xlabel('Base error')\n",
    "plt.ylabel('Base/Ensemble error')\n",
    "plt.legend(loc='best')\n",
    "plt.grid(alpha=0.5)\n",
    "plt.show()"
   ]
  },
  {
   "cell_type": "markdown",
   "metadata": {},
   "source": [
    "## 7.2 多数決による分類器の結合"
   ]
  },
  {
   "cell_type": "markdown",
   "metadata": {},
   "source": [
    "### 7.2.1 単純な多数決分類器を実装する\n",
    "重み付きの多数決の概念をPythonコードに置き換えるには、Numpyの便利なargmax関数とbincount関数を使用すればよい。"
   ]
  },
  {
   "cell_type": "code",
   "execution_count": 3,
   "metadata": {},
   "outputs": [
    {
     "data": {
      "text/plain": [
       "1"
      ]
     },
     "execution_count": 3,
     "metadata": {},
     "output_type": "execute_result"
    }
   ],
   "source": [
    "import numpy as np\n",
    "np.argmax(np.bincount([0,0,1],\n",
    "                     weights=[0.2, 0.2, 0.6]))"
   ]
  },
  {
   "cell_type": "markdown",
   "metadata": {},
   "source": [
    "クラスの確率に基づく重み付きの多数決を実装する場合も、Numpyのnp.averageとnp.argmaxを利用できる。"
   ]
  },
  {
   "cell_type": "code",
   "execution_count": 4,
   "metadata": {},
   "outputs": [
    {
     "name": "stdout",
     "output_type": "stream",
     "text": [
      "[0.58 0.42]\n"
     ]
    },
    {
     "data": {
      "text/plain": [
       "0"
      ]
     },
     "execution_count": 4,
     "metadata": {},
     "output_type": "execute_result"
    }
   ],
   "source": [
    "ex = np.array([[0.9, 0.1],\n",
    "              [0.8, 0.2],\n",
    "              [0.4, 0.6]])\n",
    "p = np.average(ex,axis=0,weights=[0.2, 0.2, 0.6])\n",
    "print(p)\n",
    "np.argmax(p)"
   ]
  },
  {
   "cell_type": "code",
   "execution_count": 5,
   "metadata": {},
   "outputs": [],
   "source": [
    "from sklearn.base import BaseEstimator\n",
    "from sklearn.base import ClassifierMixin\n",
    "from sklearn.preprocessing import LabelEncoder\n",
    "from sklearn.externals import six\n",
    "from sklearn.base import clone\n",
    "from sklearn.pipeline import _name_estimators\n",
    "import numpy as np\n",
    "import operator\n",
    "\n",
    "class MajorityVoteClassifier(BaseEstimator,ClassifierMixin):\n",
    "    \"\"\"多数決アンサンブル分類器\n",
    "    \n",
    "    パラメータ\n",
    "    ーーーーーーーーーーーーーーー\n",
    "    classifiers : array-like, shape = [n_classifiers]\n",
    "        アンサンブルのさまざまな分類器\n",
    "        \n",
    "    vote : str, {'classlabel', 'probabirity'} (default: 'classlabel')\n",
    "        'class label'の場合、クラスラベルの予測はクラスラベルのargmaxに基づく\n",
    "        'probabirity'の場合、クラスラベルの予測はクラスの所属確率の\n",
    "        argmaxの基づく（分類器が調整済みであることが推奨される）\n",
    "        \n",
    "    weights : array-like, shape = [n_classifier](optional, default=None)\n",
    "        'int'または'float'型の値のリストが提供された場合、分類器は重要度で重み付けされる\n",
    "        'weights=None'の場合は均一な重みを使用\n",
    "        \n",
    "    \"\"\"\n",
    "    \n",
    "    def __init__(self, classifiers, vote='classlabel',weights=None):\n",
    "        self.classifiers = classifiers\n",
    "        self.named_classifiers = {key: value for key,\n",
    "                                 value in _name_estimators(classifiers)}\n",
    "        self.vote = vote\n",
    "        self.weights = weights\n",
    "    \n",
    "        \n",
    "    def fit(self, X, y):\n",
    "        \"\"\" 分類器を学習させる\n",
    "        \n",
    "        パラメータ\n",
    "        ーーーーーーーーーーーーーーー\n",
    "        X : {array-like, sparse, matrix},\n",
    "            shape = {n_samples, n_features}\n",
    "            \n",
    "        y :array-like, shape = {n_samples}\n",
    "            クラスラベルのベクトル\n",
    "            \n",
    "            \n",
    "        戻り値\n",
    "        ーーーーーーーーーーーーーーー\n",
    "        self : object\n",
    "        \n",
    "        \"\"\"\n",
    "        # LabelEncoderを使ってクラスラベルが0から始まるようにエンコードする\n",
    "        # self.predictのnp.argmax呼び出しが重要となる\n",
    "        self.lablenc_ = LabelEncoder()\n",
    "        self.lablenc_.fit(y)\n",
    "        self.classes_ = self.lablenc_.classes_\n",
    "        self.classifiers_ = []\n",
    "        for clf in self.classifiers:\n",
    "            fitted_clf = clone(clf).fit(X,self.lablenc_.transform(y))\n",
    "            self.classifiers.append(fitted_clf)\n",
    "        return self\n",
    "    \n",
    "    \n",
    "    def predict(self,X):\n",
    "        \"\"\"Xのクラスラベルを予測する\n",
    "        \n",
    "        パラメータ\n",
    "        ーーーーーーーーーーーーーーー\n",
    "        X : {array-like, sparse matrix}, shape = {n_samples, n_features}\n",
    "            トレーニングサンプルからなる行列\n",
    "            \n",
    "        戻り値\n",
    "        ーーーーーーーーーーーーーーー\n",
    "        maj_vote : array-like, shape = {n_samples}\n",
    "            予測されたクラスラベル\n",
    "            \n",
    "        \"\"\"\n",
    "        if self.vote == 'probability':\n",
    "            maj_vote = np.argmax(self.predict_proba(X), axis = 1)\n",
    "        else: # 'classlabel'での多数決\n",
    "            \n",
    "            # clf.predictの呼び出しの結果を収束\n",
    "            predictions = np.asarray([clf.predicit(X)\n",
    "                                      for clf in self.classifiers_]).T\n",
    "            \n",
    "            # 各サンプルのクラス確率に重みを掛けて足し合わせた値が最大となる\n",
    "            # 列番号を配列として返す\n",
    "            maj_vote = np.apply_along_axis(\n",
    "                lambda x:\n",
    "                np.argmax(np.bincount(x,weights=self.weights)),\n",
    "                axis=1,\n",
    "                arr=predictiions)\n",
    "                \n",
    "            # 各サンプルに確率の最大値を与えるクラスラベルを抽出\n",
    "            maj_vote = self.lablenc_.inverse_transform(maj_vote)\n",
    "            return maj_vote\n",
    "            \n",
    "    def predict_proba(self,X):\n",
    "        \"\"\" Xのクラス確率を予測する\n",
    "        \n",
    "        パラメータ\n",
    "        ーーーーーーーーーーーーーーー\n",
    "        X : {array-like, sparse matrix}, shape = [n_sample, n_features]\n",
    "            トレーニングベクトル:n_samplesはサンプルの個数、\n",
    "            n_featuresは特徴量の個数\n",
    "            \n",
    "        戻り値\n",
    "        ーーーーーーーーーーーーーーー\n",
    "        avga_proba : array-like, shape = [n_samples, n_classes]\n",
    "            各サンプルに対する各クラスで重み付した平均確率\n",
    "            \n",
    "        \"\"\"\n",
    "        probas = np.asarray([clf.predict_proba(X)\n",
    "                            for clf in self.classifiers_])\n",
    "        avg_proba = np.average(probas, axis=0, weights=self.weights)\n",
    "        return avg_proba\n",
    "    \n",
    "    def get_params(self, deep=True):\n",
    "        \"\"\" GridSeachの実行時に分類器のパラメータ名を取得 \"\"\"\n",
    "        if not deep:\n",
    "            return super(MajorityVoteClassifier,self).get_params(deep=True)\n",
    "        else:\n",
    "            # キーを”分類器の名前__パラメータ名”、\n",
    "            # バリューをパラメータの値と取得するディクショナリを生成\n",
    "            out = self.named_classifiers.copy()\n",
    "            for name,step in six.iteritems(self.named_classifiers):\n",
    "                for key,value in six.iteritems(step.get_params(deep=True)):\n",
    "                    out['%s__$s' % (name,key)] = values\n",
    "            return out"
   ]
  },
  {
   "cell_type": "code",
   "execution_count": 6,
   "metadata": {},
   "outputs": [],
   "source": [
    "from sklearn.base import BaseEstimator\n",
    "from sklearn.base import ClassifierMixin\n",
    "from sklearn.preprocessing import LabelEncoder\n",
    "from sklearn.externals import six\n",
    "from sklearn.base import clone\n",
    "from sklearn.pipeline import _name_estimators\n",
    "import numpy as np\n",
    "import operator\n",
    "\n",
    "\n",
    "class MajorityVoteClassifier(BaseEstimator, \n",
    "                             ClassifierMixin):\n",
    "    \"\"\" A majority vote ensemble classifier\n",
    "\n",
    "    Parameters\n",
    "    ----------\n",
    "    classifiers : array-like, shape = [n_classifiers]\n",
    "      Different classifiers for the ensemble\n",
    "\n",
    "    vote : str, {'classlabel', 'probability'} (default='label')\n",
    "      If 'classlabel' the prediction is based on the argmax of\n",
    "        class labels. Else if 'probability', the argmax of\n",
    "        the sum of probabilities is used to predict the class label\n",
    "        (recommended for calibrated classifiers).\n",
    "\n",
    "    weights : array-like, shape = [n_classifiers], optional (default=None)\n",
    "      If a list of `int` or `float` values are provided, the classifiers\n",
    "      are weighted by importance; Uses uniform weights if `weights=None`.\n",
    "\n",
    "    \"\"\"\n",
    "    def __init__(self, classifiers, vote='classlabel', weights=None):\n",
    "\n",
    "        self.classifiers = classifiers\n",
    "        self.named_classifiers = {key: value for key, value\n",
    "                                  in _name_estimators(classifiers)}\n",
    "        self.vote = vote\n",
    "        self.weights = weights\n",
    "\n",
    "    def fit(self, X, y):\n",
    "        \"\"\" Fit classifiers.\n",
    "\n",
    "        Parameters\n",
    "        ----------\n",
    "        X : {array-like, sparse matrix}, shape = [n_samples, n_features]\n",
    "            Matrix of training samples.\n",
    "\n",
    "        y : array-like, shape = [n_samples]\n",
    "            Vector of target class labels.\n",
    "\n",
    "        Returns\n",
    "        -------\n",
    "        self : object\n",
    "\n",
    "        \"\"\"\n",
    "        if self.vote not in ('probability', 'classlabel'):\n",
    "            raise ValueError(\"vote must be 'probability' or 'classlabel'\"\n",
    "                             \"; got (vote=%r)\"\n",
    "                             % self.vote)\n",
    "\n",
    "        if self.weights and len(self.weights) != len(self.classifiers):\n",
    "            raise ValueError('Number of classifiers and weights must be equal'\n",
    "                             '; got %d weights, %d classifiers'\n",
    "                             % (len(self.weights), len(self.classifiers)))\n",
    "\n",
    "        # Use LabelEncoder to ensure class labels start with 0, which\n",
    "        # is important for np.argmax call in self.predict\n",
    "        self.lablenc_ = LabelEncoder()\n",
    "        self.lablenc_.fit(y)\n",
    "        self.classes_ = self.lablenc_.classes_\n",
    "        self.classifiers_ = []\n",
    "        for clf in self.classifiers:\n",
    "            fitted_clf = clone(clf).fit(X, self.lablenc_.transform(y))\n",
    "            self.classifiers_.append(fitted_clf)\n",
    "        return self\n",
    "\n",
    "    def predict(self, X):\n",
    "        \"\"\" Predict class labels for X.\n",
    "\n",
    "        Parameters\n",
    "        ----------\n",
    "        X : {array-like, sparse matrix}, shape = [n_samples, n_features]\n",
    "            Matrix of training samples.\n",
    "\n",
    "        Returns\n",
    "        ----------\n",
    "        maj_vote : array-like, shape = [n_samples]\n",
    "            Predicted class labels.\n",
    "            \n",
    "        \"\"\"\n",
    "        if self.vote == 'probability':\n",
    "            maj_vote = np.argmax(self.predict_proba(X), axis=1)\n",
    "        else:  # 'classlabel' vote\n",
    "\n",
    "            #  Collect results from clf.predict calls\n",
    "            predictions = np.asarray([clf.predict(X)\n",
    "                                      for clf in self.classifiers_]).T\n",
    "\n",
    "            maj_vote = np.apply_along_axis(\n",
    "                                      lambda x:\n",
    "                                      np.argmax(np.bincount(x,weights=self.weights)),\n",
    "                                      axis=1,\n",
    "                                      arr=predictions)\n",
    "        maj_vote = self.lablenc_.inverse_transform(maj_vote)\n",
    "        return maj_vote\n",
    "\n",
    "    def predict_proba(self, X):\n",
    "        \"\"\" Predict class probabilities for X.\n",
    "\n",
    "        Parameters\n",
    "        ----------\n",
    "        X : {array-like, sparse matrix}, shape = [n_samples, n_features]\n",
    "            Training vectors, where n_samples is the number of samples and\n",
    "            n_features is the number of features.\n",
    "\n",
    "        Returns\n",
    "        ----------\n",
    "        avg_proba : array-like, shape = [n_samples, n_classes]\n",
    "            Weighted average probability for each class per sample.\n",
    "\n",
    "        \"\"\"\n",
    "        probas = np.asarray([clf.predict_proba(X)\n",
    "                             for clf in self.classifiers_])\n",
    "        avg_proba = np.average(probas, axis=0, weights=self.weights)\n",
    "        return avg_proba\n",
    "\n",
    "    def get_params(self, deep=True):\n",
    "        \"\"\" Get classifier parameter names for GridSearch\"\"\"\n",
    "        if not deep:\n",
    "            return super(MajorityVoteClassifier, self).get_params(deep=False)\n",
    "        else:\n",
    "            out = self.named_classifiers.copy()\n",
    "            for name, step in six.iteritems(self.named_classifiers):\n",
    "                for key, value in six.iteritems(step.get_params(deep=True)):\n",
    "                    out['%s__%s' % (name, key)] = value\n",
    "            return out"
   ]
  },
  {
   "cell_type": "markdown",
   "metadata": {},
   "source": [
    "get_paramsメソッドの_name_estimators関数を使用することにより、アンサンブルの個々の分類器のパラメータにアクセスできるようにするためである。\n",
    "またこの分類器はscikit-learnの0.17以上のverで,sklearn.ensemble.VotingClassifierである。"
   ]
  },
  {
   "cell_type": "markdown",
   "metadata": {},
   "source": [
    "## 7.2.2 多数決の原理に基づいて予測を行う。"
   ]
  },
  {
   "cell_type": "code",
   "execution_count": 7,
   "metadata": {},
   "outputs": [],
   "source": [
    "from sklearn import datasets\n",
    "from sklearn.model_selection import train_test_split\n",
    "from sklearn.preprocessing import StandardScaler\n",
    "from sklearn.preprocessing import LabelEncoder\n",
    "iris = datasets.load_iris()\n",
    "X,y = iris.data[50:,[1,2]], iris.target[50:]\n",
    "le = LabelEncoder()\n",
    "y = le.fit_transform(y)"
   ]
  },
  {
   "cell_type": "code",
   "execution_count": 8,
   "metadata": {},
   "outputs": [],
   "source": [
    "X_train,X_test,y_train,y_test  = \\\n",
    "    train_test_split(X, y, test_size=0.5,random_state=1, stratify=y)"
   ]
  },
  {
   "cell_type": "markdown",
   "metadata": {},
   "source": [
    "以下の3つの分類器のトレーニングを行う。\n",
    "- ロジスティクス回帰分類器\n",
    "- 決定木\n",
    "- k近傍法\n",
    "\n",
    "これらの分類器をアンサンブル分類器にまとめる前に、10分割交差検証を使って各分類器のトレニンーグデータセットでの性能を評価する。"
   ]
  },
  {
   "cell_type": "code",
   "execution_count": 9,
   "metadata": {},
   "outputs": [
    {
     "name": "stdout",
     "output_type": "stream",
     "text": [
      "10-fold cross validation:\n",
      "\n",
      "ROC AUC: 0.87 (+/- 0.17)[Logistick regression]\n",
      "ROC AUC: 0.89 (+/- 0.16)[Decision tree]\n",
      "ROC AUC: 0.88 (+/- 0.15)[KNN]\n"
     ]
    }
   ],
   "source": [
    "from sklearn.model_selection import cross_val_score\n",
    "from sklearn.linear_model import LogisticRegression\n",
    "from sklearn.tree import DecisionTreeClassifier\n",
    "from sklearn.neighbors import KNeighborsClassifier\n",
    "from sklearn.pipeline import Pipeline\n",
    "import numpy as np\n",
    "clf1 = LogisticRegression(penalty='l2',\n",
    "                         C = 0.001,\n",
    "                         random_state=1)\n",
    "clf2 = DecisionTreeClassifier(max_depth=1,\n",
    "                             criterion='entropy',\n",
    "                             random_state=0)\n",
    "clf3 = KNeighborsClassifier(n_neighbors=1,\n",
    "                           p=2,\n",
    "                           metric='minkowski')\n",
    "pipe1 = Pipeline([['sc',StandardScaler()],\n",
    "                 ['clf',clf1]])\n",
    "pipe3 = Pipeline([['sc',StandardScaler()],\n",
    "                 ['clf',clf3]])\n",
    "clf_labels = ['Logistick regression','Decision tree','KNN']\n",
    "print('10-fold cross validation:\\n')\n",
    "for clf,label in zip([pipe1,clf2,pipe3], clf_labels):\n",
    "    scores = cross_val_score(estimator=clf,\n",
    "                            X=X_train,\n",
    "                            y=y_train,\n",
    "                            cv=10,\n",
    "                            scoring='roc_auc')\n",
    "    print(\"ROC AUC: %0.2f (+/- %0.2f)[%s]\" % (scores.mean(),scores.std(),label))"
   ]
  },
  {
   "cell_type": "markdown",
   "metadata": {},
   "source": [
    "ロジスティック回帰分類器とk近傍法を**パイプライン**の一部としてトレーニングした理由としては、特徴量の尺度に影響を受けるからである。"
   ]
  },
  {
   "cell_type": "code",
   "execution_count": 10,
   "metadata": {
    "scrolled": true
   },
   "outputs": [],
   "source": [
    "mv_clf = MajorityVoteClassifier(classifiers=[pipe1,clf2,pipe3])\n",
    "clf_labels += ['Majority voting']\n",
    "all_clf = [pipe1, clf2, pipe3, mv_clf]\n"
   ]
  },
  {
   "cell_type": "code",
   "execution_count": 11,
   "metadata": {},
   "outputs": [
    {
     "name": "stdout",
     "output_type": "stream",
     "text": [
      "ROC AUC :0.87 (+/- 0.17) [Logistick regression]\n",
      "ROC AUC :0.89 (+/- 0.16) [Decision tree]\n",
      "ROC AUC :0.88 (+/- 0.15) [KNN]\n",
      "ROC AUC :0.94 (+/- 0.13) [Majority voting]\n"
     ]
    }
   ],
   "source": [
    "for clf,label in zip(all_clf,clf_labels):\n",
    "    scores = cross_val_score(estimator=clf,\n",
    "                            X=X_train,\n",
    "                            y=y_train,\n",
    "                            cv=10,\n",
    "                            scoring='roc_auc')\n",
    "    print(\"ROC AUC :%0.2f (+/- %0.2f) [%s]\" % (scores.mean(),scores.std(),label))"
   ]
  },
  {
   "cell_type": "markdown",
   "metadata": {},
   "source": [
    "## 7.3 アンサンブル分類器の評価とチューニング\n",
    "ROC曲線を計算し、MajorityVoteClassifierが未知のデータにうまく汎化されてるかどうかを確認する。"
   ]
  },
  {
   "cell_type": "code",
   "execution_count": 12,
   "metadata": {},
   "outputs": [
    {
     "data": {
      "image/png": "[encoded data removed]",
      "text/plain": [
       "<matplotlib.figure.Figure at 0x226f82c3908>"
      ]
     },
     "metadata": {
      "needs_background": "light"
     },
     "output_type": "display_data"
    }
   ],
   "source": [
    "from sklearn.metrics import roc_curve\n",
    "from sklearn.metrics import auc\n",
    "colors = ['black','orange','blue','green']\n",
    "linestyles = [':','--','-.','-']\n",
    "for clf,label,clr,ls in zip(all_clf,clf_labels,colors,linestyles):\n",
    "    # 陽性クラスのラベルは1であることが前提\n",
    "    y_pred = clf.fit(X_train,y_train).predict_proba(X_test)[:,1]\n",
    "    fpr,tpr,thresholds = roc_curve(y_true=y_test, y_score=y_pred)\n",
    "    roc_auc = auc(x=fpr, y=tpr)\n",
    "    plt.plot(fpr,tpr,\n",
    "            color=clr,\n",
    "            linestyle=ls,\n",
    "            label = ' %s (auc = %0.2f)' %(label,roc_auc))\n",
    "    \n",
    "plt.legend(loc='best')\n",
    "plt.plot([0,1],[0,1],\n",
    "        linestyle='--',\n",
    "        color='gray',\n",
    "        linewidth=2)\n",
    "plt.xlim([-0.1,1.1])\n",
    "plt.ylim([-0.1,1.1])\n",
    "plt.grid(alpha=0.5)\n",
    "plt.xlabel('False positive rate (FPR)')\n",
    "plt.ylabel('True positive rate (TPR)')\n",
    "plt.show()"
   ]
  },
  {
   "cell_type": "code",
   "execution_count": 13,
   "metadata": {},
   "outputs": [
    {
     "name": "stderr",
     "output_type": "stream",
     "text": [
      "C:\\Users\\zundo\\Anaconda3\\lib\\site-packages\\sklearn\\preprocessing\\label.py:151: DeprecationWarning: The truth value of an empty array is ambiguous. Returning False, but in future this will result in an error. Use `array.size > 0` to check that an array is not empty.\n",
      "  if diff:\n"
     ]
    },
    {
     "data": {
      "image/png": "[encoded data removed]",
      "text/plain": [
       "<matplotlib.figure.Figure at 0x226f837cc88>"
      ]
     },
     "metadata": {
      "needs_background": "light"
     },
     "output_type": "display_data"
    }
   ],
   "source": [
    "sc = StandardScaler()\n",
    "X_train_std = sc.fit_transform(X_train)\n",
    "from itertools import product\n",
    "\n",
    "# 決定領域を描画する最小値、最大値を生成\n",
    "x_min = X_train_std[:,0].min() -1\n",
    "x_max = X_train_std[:,0].max() +1\n",
    "y_min = X_train_std[:,1].min() -1\n",
    "y_max = X_train_std[:,1].max() +1\n",
    "\n",
    "#グリッドポイントの生成\n",
    "xx,yy = np.meshgrid(np.arange(x_min, x_max, 0.1),\n",
    "                   np.arange(y_min, y_max, 0.1))\n",
    "\n",
    "# 描画領域を2行2列に分割\n",
    "f,axarr = plt.subplots(nrows=2, ncols=2,\n",
    "                      sharex='col',\n",
    "                      sharey='row',\n",
    "                      figsize=(7,5))\n",
    "\n",
    "# 決定領域をプロット、赤や青の散布図の作成などを実行\n",
    "# 変数idxは各分類器を描画すると行と列の位置を表すタプル\n",
    "for idx, clf, tt in zip(product([0,1], [0,1]), all_clf, clf_labels):\n",
    "    clf.fit(X_train_std,y_train)\n",
    "    Z = clf.predict(np.c_[xx.ravel(), yy.ravel()])\n",
    "    Z = Z.reshape(xx.shape)\n",
    "    axarr[idx[0], idx[1]].contourf(xx,yy,Z,alpha=0.3)\n",
    "    axarr[idx[0], idx[1]].scatter(X_train_std[y_train==0,0],\n",
    "                                 X_train_std[y_train==0,1],\n",
    "                                 c='blue',\n",
    "                                 marker='^',\n",
    "                                 s=50)\n",
    "    axarr[idx[0], idx[1]].scatter(X_train_std[y_train==1,0],\n",
    "                                 X_train_std[y_train==1,1],\n",
    "                                 c='green',\n",
    "                                 marker='o',\n",
    "                                 s=50)\n",
    "    axarr[idx[0], idx[1]].set_title(tt)\n",
    "    \n",
    "plt.text(-3.5, -5.,\n",
    "        s='Spepal width [standardized]',\n",
    "        ha='center',va='center',fontsize=12)\n",
    "plt.text(-12.5, 4.5,\n",
    "        s='Petal length [standardized]',\n",
    "        ha = 'center', va='center',\n",
    "        fontsize=12,rotation=90)\n",
    "plt.show()"
   ]
  },
  {
   "cell_type": "markdown",
   "metadata": {},
   "source": [
    "アンサンブル分類に用いる個々の分類器のパラメータをチューニングする方法について説明する。その前にget_paramsメソッドを呼び出すことで、グリッドサーチオブジェクトの個々のパラメータにアクセスする方法を理解できる。"
   ]
  },
  {
   "cell_type": "code",
   "execution_count": 14,
   "metadata": {},
   "outputs": [
    {
     "data": {
      "text/plain": [
       "{'pipeline-1': Pipeline(memory=None,\n",
       "      steps=[('sc', StandardScaler(copy=True, with_mean=True, with_std=True)), ['clf', LogisticRegression(C=0.001, class_weight=None, dual=False, fit_intercept=True,\n",
       "           intercept_scaling=1, max_iter=100, multi_class='ovr', n_jobs=1,\n",
       "           penalty='l2', random_state=1, solver='liblinear', tol=0.0001,\n",
       "           verbose=0, warm_start=False)]]),\n",
       " 'decisiontreeclassifier': DecisionTreeClassifier(class_weight=None, criterion='entropy', max_depth=1,\n",
       "             max_features=None, max_leaf_nodes=None,\n",
       "             min_impurity_decrease=0.0, min_impurity_split=None,\n",
       "             min_samples_leaf=1, min_samples_split=2,\n",
       "             min_weight_fraction_leaf=0.0, presort=False, random_state=0,\n",
       "             splitter='best'),\n",
       " 'pipeline-2': Pipeline(memory=None,\n",
       "      steps=[('sc', StandardScaler(copy=True, with_mean=True, with_std=True)), ['clf', KNeighborsClassifier(algorithm='auto', leaf_size=30, metric='minkowski',\n",
       "            metric_params=None, n_jobs=1, n_neighbors=1, p=2,\n",
       "            weights='uniform')]]),\n",
       " 'pipeline-1__memory': None,\n",
       " 'pipeline-1__steps': [('sc',\n",
       "   StandardScaler(copy=True, with_mean=True, with_std=True)),\n",
       "  ['clf',\n",
       "   LogisticRegression(C=0.001, class_weight=None, dual=False, fit_intercept=True,\n",
       "             intercept_scaling=1, max_iter=100, multi_class='ovr', n_jobs=1,\n",
       "             penalty='l2', random_state=1, solver='liblinear', tol=0.0001,\n",
       "             verbose=0, warm_start=False)]],\n",
       " 'pipeline-1__sc': StandardScaler(copy=True, with_mean=True, with_std=True),\n",
       " 'pipeline-1__clf': LogisticRegression(C=0.001, class_weight=None, dual=False, fit_intercept=True,\n",
       "           intercept_scaling=1, max_iter=100, multi_class='ovr', n_jobs=1,\n",
       "           penalty='l2', random_state=1, solver='liblinear', tol=0.0001,\n",
       "           verbose=0, warm_start=False),\n",
       " 'pipeline-1__sc__copy': True,\n",
       " 'pipeline-1__sc__with_mean': True,\n",
       " 'pipeline-1__sc__with_std': True,\n",
       " 'pipeline-1__clf__C': 0.001,\n",
       " 'pipeline-1__clf__class_weight': None,\n",
       " 'pipeline-1__clf__dual': False,\n",
       " 'pipeline-1__clf__fit_intercept': True,\n",
       " 'pipeline-1__clf__intercept_scaling': 1,\n",
       " 'pipeline-1__clf__max_iter': 100,\n",
       " 'pipeline-1__clf__multi_class': 'ovr',\n",
       " 'pipeline-1__clf__n_jobs': 1,\n",
       " 'pipeline-1__clf__penalty': 'l2',\n",
       " 'pipeline-1__clf__random_state': 1,\n",
       " 'pipeline-1__clf__solver': 'liblinear',\n",
       " 'pipeline-1__clf__tol': 0.0001,\n",
       " 'pipeline-1__clf__verbose': 0,\n",
       " 'pipeline-1__clf__warm_start': False,\n",
       " 'decisiontreeclassifier__class_weight': None,\n",
       " 'decisiontreeclassifier__criterion': 'entropy',\n",
       " 'decisiontreeclassifier__max_depth': 1,\n",
       " 'decisiontreeclassifier__max_features': None,\n",
       " 'decisiontreeclassifier__max_leaf_nodes': None,\n",
       " 'decisiontreeclassifier__min_impurity_decrease': 0.0,\n",
       " 'decisiontreeclassifier__min_impurity_split': None,\n",
       " 'decisiontreeclassifier__min_samples_leaf': 1,\n",
       " 'decisiontreeclassifier__min_samples_split': 2,\n",
       " 'decisiontreeclassifier__min_weight_fraction_leaf': 0.0,\n",
       " 'decisiontreeclassifier__presort': False,\n",
       " 'decisiontreeclassifier__random_state': 0,\n",
       " 'decisiontreeclassifier__splitter': 'best',\n",
       " 'pipeline-2__memory': None,\n",
       " 'pipeline-2__steps': [('sc',\n",
       "   StandardScaler(copy=True, with_mean=True, with_std=True)),\n",
       "  ['clf',\n",
       "   KNeighborsClassifier(algorithm='auto', leaf_size=30, metric='minkowski',\n",
       "              metric_params=None, n_jobs=1, n_neighbors=1, p=2,\n",
       "              weights='uniform')]],\n",
       " 'pipeline-2__sc': StandardScaler(copy=True, with_mean=True, with_std=True),\n",
       " 'pipeline-2__clf': KNeighborsClassifier(algorithm='auto', leaf_size=30, metric='minkowski',\n",
       "            metric_params=None, n_jobs=1, n_neighbors=1, p=2,\n",
       "            weights='uniform'),\n",
       " 'pipeline-2__sc__copy': True,\n",
       " 'pipeline-2__sc__with_mean': True,\n",
       " 'pipeline-2__sc__with_std': True,\n",
       " 'pipeline-2__clf__algorithm': 'auto',\n",
       " 'pipeline-2__clf__leaf_size': 30,\n",
       " 'pipeline-2__clf__metric': 'minkowski',\n",
       " 'pipeline-2__clf__metric_params': None,\n",
       " 'pipeline-2__clf__n_jobs': 1,\n",
       " 'pipeline-2__clf__n_neighbors': 1,\n",
       " 'pipeline-2__clf__p': 2,\n",
       " 'pipeline-2__clf__weights': 'uniform'}"
      ]
     },
     "execution_count": 14,
     "metadata": {},
     "output_type": "execute_result"
    }
   ],
   "source": [
    "mv_clf.get_params()"
   ]
  },
  {
   "cell_type": "markdown",
   "metadata": {},
   "source": [
    "参考にロジスティクス回帰分類器の逆正規化パラメータCと決定着の深さをチューニングしてみる。"
   ]
  },
  {
   "cell_type": "code",
   "execution_count": 15,
   "metadata": {},
   "outputs": [
    {
     "data": {
      "text/plain": [
       "GridSearchCV(cv=10, error_score='raise',\n",
       "       estimator=MajorityVoteClassifier(classifiers=[Pipeline(memory=None,\n",
       "     steps=[('sc', StandardScaler(copy=True, with_mean=True, with_std=True)), ['clf', LogisticRegression(C=0.001, class_weight=None, dual=False, fit_intercept=True,\n",
       "          intercept_scaling=1, max_iter=100, multi_class='ovr', n_jobs=1,\n",
       "          penalty='l2', ra...ski',\n",
       "           metric_params=None, n_jobs=1, n_neighbors=1, p=2,\n",
       "           weights='uniform')]])],\n",
       "            vote='classlabel', weights=None),\n",
       "       fit_params=None, iid=True, n_jobs=1,\n",
       "       param_grid={'decisiontreeclassifier__max_depth': [1, 2], 'pipeline-1__clf__C': [0.001, 0.1, 100.0]},\n",
       "       pre_dispatch='2*n_jobs', refit=True, return_train_score='warn',\n",
       "       scoring='roc_auc', verbose=0)"
      ]
     },
     "execution_count": 15,
     "metadata": {},
     "output_type": "execute_result"
    }
   ],
   "source": [
    "from sklearn.model_selection import GridSearchCV\n",
    "params = {'decisiontreeclassifier__max_depth':[1,2],\n",
    "         'pipeline-1__clf__C':[0.001,0.1, 100.0]}\n",
    "grid = GridSearchCV(estimator=mv_clf,\n",
    "                   param_grid=params,\n",
    "                   cv=10,\n",
    "                   scoring='roc_auc')\n",
    "grid.fit(X_train,y_train)"
   ]
  },
  {
   "cell_type": "code",
   "execution_count": 16,
   "metadata": {},
   "outputs": [
    {
     "name": "stdout",
     "output_type": "stream",
     "text": [
      "0.933 +/- 0.07 {'decisiontreeclassifier__max_depth': 1, 'pipeline-1__clf__C': 0.001}\n",
      "0.947 +/- 0.07 {'decisiontreeclassifier__max_depth': 1, 'pipeline-1__clf__C': 0.1}\n",
      "0.973 +/- 0.04 {'decisiontreeclassifier__max_depth': 1, 'pipeline-1__clf__C': 100.0}\n",
      "0.947 +/- 0.07 {'decisiontreeclassifier__max_depth': 2, 'pipeline-1__clf__C': 0.001}\n",
      "0.947 +/- 0.07 {'decisiontreeclassifier__max_depth': 2, 'pipeline-1__clf__C': 0.1}\n",
      "0.973 +/- 0.04 {'decisiontreeclassifier__max_depth': 2, 'pipeline-1__clf__C': 100.0}\n"
     ]
    }
   ],
   "source": [
    "for r, _ in enumerate(grid.cv_results_['mean_test_score']):\n",
    "    print(\"%0.3f +/- %0.2f %r\"\n",
    "         % (grid.cv_results_['mean_test_score'][r],\n",
    "           grid.cv_results_['std_test_score'][r] / 2.0,\n",
    "           grid.cv_results_['params'][r]))"
   ]
  },
  {
   "cell_type": "code",
   "execution_count": 17,
   "metadata": {},
   "outputs": [
    {
     "name": "stdout",
     "output_type": "stream",
     "text": [
      "Best parameters : {'decisiontreeclassifier__max_depth': 1, 'pipeline-1__clf__C': 100.0}\n",
      "Accuracy : 0.97\n",
      "Best index: 2\n"
     ]
    }
   ],
   "source": [
    "print('Best parameters : %s' % grid.best_params_)\n",
    "print('Accuracy : %.2f' % grid.best_score_)\n",
    "print('Best index: %s'% grid.best_index_)"
   ]
  },
  {
   "cell_type": "markdown",
   "metadata": {},
   "source": [
    "このように交差検証の結果が最もよいのは正則化を弱めた場合（C=100.0）だが、決定木の深さは性能にはまったく影響を与えないようである。このため、データの分割には決定株で十分であることがわかる。**モデルの評価にはテストデータセットを繰り返し使用するのが悪いプラティクスであることを再認識する意味でも、ここではチューニングされたハイパーパラメータの汎化性能の評価は行わない。**"
   ]
  },
  {
   "cell_type": "markdown",
   "metadata": {},
   "source": [
    "## 7.4 バギング：ブーストラップ標本を使った分類器アンサンブルの構築\n",
    "バギングはアンサンブル学習の1つである。アンサンブルを構成する個々の分類器の学習に同じトレーニングデータセットを使用するのではなく、最初のトレーニングデータセットからブーストラップ標本を抽出する（ランダムな復元抽出）。バギングが**ブーストラップ集約(boostrap aggregating)**とも呼ばれる。"
   ]
  },
  {
   "cell_type": "markdown",
   "metadata": {},
   "source": [
    "### 7.4.2 バギングを使ってWineデータセットのサンプルを分類する"
   ]
  },
  {
   "cell_type": "code",
   "execution_count": 18,
   "metadata": {},
   "outputs": [],
   "source": [
    "import pandas as pd\n",
    "df_wine = pd.read_csv(\n",
    "                'https://archive.ics.uci.edu/ml/machine-learning-databases/wine/wine.data',\n",
    "                header=None)\n",
    "df_wine.columns = ['Class label','Alcohol','Malic acid','Ash',\n",
    "                  'Alcalinity of ash','Magnesium','Total phenols','Flabanoids',\n",
    "                  'Nonflavanoid phenols','Proanthocyanins','Color intensity',\n",
    "                  'Hue','OD280/OD315 of diluted wines','Proline']\n",
    "# クラス1を削除\n",
    "df_wine = df_wine[df_wine['Class label'] != 1]\n",
    "y = df_wine['Class label'].values\n",
    "X = df_wine[['Alcohol', 'OD280/OD315 of diluted wines']].values"
   ]
  },
  {
   "cell_type": "code",
   "execution_count": 19,
   "metadata": {},
   "outputs": [
    {
     "name": "stdout",
     "output_type": "stream",
     "text": [
      "[0 0 0 0 0 0 0 0 0 0 0 0 0 0 0 0 0 0 0 0 0 0 0 0 0 0 0 0 0 0 0 0 0 0 0 0 0\n",
      " 0 0 0 0 0 0 0 0 0 0 0 0 0 0 0 0 0 0 0 0 0 0 0 0 0 0 0 0 0 0 0 0 0 0 1 1 1\n",
      " 1 1 1 1 1 1 1 1 1 1 1 1 1 1 1 1 1 1 1 1 1 1 1 1 1 1 1 1 1 1 1 1 1 1 1 1 1\n",
      " 1 1 1 1 1 1 1 1]\n"
     ]
    }
   ],
   "source": [
    "from sklearn.preprocessing import LabelEncoder\n",
    "from sklearn.model_selection import train_test_split\n",
    "le = LabelEncoder()\n",
    "y = le.fit_transform(y)\n",
    "print(y)\n",
    "X_train,X_test,y_train,y_test = train_test_split(X,y,\n",
    "                                                test_size=0.2,\n",
    "                                                random_state = 1,\n",
    "                                                stratify=y) # データのばらつきを均等化させる"
   ]
  },
  {
   "cell_type": "markdown",
   "metadata": {},
   "source": [
    "ここでは剪定されていない決定木をベース分類器として使用することで、500個の決定木からなるアンサンブルを作成し、トレニンーグデータセットの異なるブーストラップ標本で学習させる。"
   ]
  },
  {
   "cell_type": "code",
   "execution_count": 20,
   "metadata": {},
   "outputs": [
    {
     "name": "stderr",
     "output_type": "stream",
     "text": [
      "C:\\Users\\zundo\\Anaconda3\\lib\\site-packages\\sklearn\\ensemble\\weight_boosting.py:29: DeprecationWarning: numpy.core.umath_tests is an internal NumPy module and should not be imported. It will be removed in a future NumPy release.\n",
      "  from numpy.core.umath_tests import inner1d\n"
     ]
    }
   ],
   "source": [
    "from sklearn.ensemble import BaggingClassifier\n",
    "tree = DecisionTreeClassifier(criterion = 'entropy',\n",
    "                        max_depth = None,\n",
    "                        random_state = 1)\n",
    "bag = BaggingClassifier(base_estimator = tree,\n",
    "                       n_estimators = 500,\n",
    "                       max_samples = 1.0,\n",
    "                       max_features = 1.0,\n",
    "                       bootstrap = True,\n",
    "                       bootstrap_features = False,\n",
    "                       n_jobs = 1,\n",
    "                       random_state = 1)"
   ]
  },
  {
   "cell_type": "markdown",
   "metadata": {},
   "source": [
    "トレーニングデータセットとテストデータセットで予測の正解率を計算し、選定されていない決定木の性能とバギング分類器の性能を比較する。"
   ]
  },
  {
   "cell_type": "code",
   "execution_count": 21,
   "metadata": {},
   "outputs": [
    {
     "name": "stdout",
     "output_type": "stream",
     "text": [
      "Decision tree train/test accuracies 1.000/0.833\n"
     ]
    }
   ],
   "source": [
    "from sklearn.metrics import accuracy_score\n",
    "tree = tree.fit(X_train,y_train)\n",
    "y_train_pred = tree.predict(X_train)\n",
    "y_test_pred = tree.predict(X_test)\n",
    "tree_train = accuracy_score(y_train, y_train_pred)\n",
    "tree_test = accuracy_score(y_test, y_test_pred)\n",
    "print('Decision tree train/test accuracies %.3f/%.3f' % (tree_train, tree_test))"
   ]
  },
  {
   "cell_type": "markdown",
   "metadata": {},
   "source": [
    "テストデータとトレーニングデータを比べてテストデータの正解率が低いためバリアンスが高いことがわかる。（過学習）"
   ]
  },
  {
   "cell_type": "code",
   "execution_count": 22,
   "metadata": {},
   "outputs": [
    {
     "name": "stdout",
     "output_type": "stream",
     "text": [
      "Bagging train/tset accuracies 1.000/0.917\n"
     ]
    }
   ],
   "source": [
    "bag = bag.fit(X_train,y_train)\n",
    "y_train_pred = bag.predict(X_train)\n",
    "y_test_pred = bag.predict(X_test)\n",
    "bag_train = accuracy_score(y_train, y_train_pred)\n",
    "bag_test = accuracy_score(y_test, y_test_pred)\n",
    "print('Bagging train/tset accuracies %.3f/%.3f' % (bag_train, bag_test))"
   ]
  },
  {
   "cell_type": "markdown",
   "metadata": {},
   "source": [
    "トレニンーグデータセットに関してはバギング分類器のほうが汎化性能はわずかに上回っている。次に決定木とバギング分類器の決定領域を比較してみる。"
   ]
  },
  {
   "cell_type": "code",
   "execution_count": 23,
   "metadata": {},
   "outputs": [
    {
     "data": {
      "image/png": "[encoded data removed]",
      "text/plain": [
       "<matplotlib.figure.Figure at 0x226fbfda860>"
      ]
     },
     "metadata": {
      "needs_background": "light"
     },
     "output_type": "display_data"
    }
   ],
   "source": [
    "x_min = X_train[:,0].min() -1\n",
    "x_max = X_train[:,0].max() +1\n",
    "y_min = X_train[:,1].min() -1\n",
    "y_max = X_train[:,1].max() +1\n",
    "xx, yy = np.meshgrid(np.arange(x_min,x_max,0.1),\n",
    "                    np.arange(y_min,y_max,0.1))\n",
    "\n",
    "f,axarr = plt.subplots(nrows=1, ncols=2,\n",
    "                      sharex='col',\n",
    "                      sharey = 'row',\n",
    "                      figsize=(8,3))\n",
    "\n",
    "\n",
    "for idx,clf,tt in zip([0,1],\n",
    "                      [tree,bag],\n",
    "                      ['Decision tree','Bagging']):\n",
    "    clf.fit(X_train, y_train)\n",
    "    \n",
    "    Z = clf.predict(np.c_[xx.ravel(), yy.ravel()])\n",
    "    Z = Z.reshape(xx.shape)\n",
    "    \n",
    "    axarr[idx].contourf(xx, yy, Z, alpha=0.3)\n",
    "    \n",
    "    axarr[idx].scatter(X_train[y_train==0,0],\n",
    "                      X_train[y_train==0,1]\n",
    "                       ,c = 'blue', marker = '^')\n",
    "    \n",
    "    axarr[idx].scatter(X_train[y_train == 1, 0],\n",
    "                      X_train[y_train == 1, 1],\n",
    "                       c ='green', marker ='o')\n",
    "    \n",
    "    axarr[idx].set_title(tt)\n",
    "    \n",
    "axarr[0].set_ylabel('Alcohol', fontsize=12)\n",
    "\n",
    "plt.text(10.2, -0.5,\n",
    "        s = 'OD289/OD315 of diluted wines',\n",
    "        ha = 'center', va='center', fontsize=12)\n",
    "\n",
    "plt.tight_layout()\n",
    "plt.show()"
   ]
  },
  {
   "cell_type": "markdown",
   "metadata": {},
   "source": [
    "バギングアンサンブルのほうが滑らかな決定境界領域になっている。\n",
    "分類タスクがより複雑だったり、データのセットの次元数が多かったりすると、単一の決定木では過学習に陥りやすい。そのような状況ではバギングアルゴリズムが輝く。\n",
    "**バギングはモデルのバリアンスの抑制に効果的である。ただし、バイアスの抑制には効果がないので注意すること**"
   ]
  },
  {
   "cell_type": "markdown",
   "metadata": {},
   "source": [
    "## 7.5 アダブーストによる弱学習機の活用"
   ]
  },
  {
   "cell_type": "markdown",
   "metadata": {},
   "source": [
    "### 7.5.1 ブースティングの仕組み\n",
    "簡単にいうと誤分類したものに強烈なペナルティを科す。誤分類したものについてはずっと重みを科していく。"
   ]
  },
  {
   "cell_type": "markdown",
   "metadata": {},
   "source": [
    "### 7.5.2 scikit-learnを使ってアダブーストを適用する。"
   ]
  },
  {
   "cell_type": "code",
   "execution_count": 24,
   "metadata": {},
   "outputs": [
    {
     "name": "stdout",
     "output_type": "stream",
     "text": [
      "Decision tree train/test 0.916/0.875\n"
     ]
    }
   ],
   "source": [
    "from sklearn.ensemble import AdaBoostClassifier\n",
    "tree = DecisionTreeClassifier(criterion='entropy',\n",
    "                             max_depth = 1,\n",
    "                             random_state = 1)\n",
    "ada = AdaBoostClassifier(base_estimator = tree,\n",
    "                        n_estimators = 500,\n",
    "                        learning_rate = 0.1,\n",
    "                        random_state = 1)\n",
    "tree = tree.fit(X_train,y_train)\n",
    "\n",
    "y_train_pred = tree.predict(X_train)\n",
    "y_test_pred = tree.predict(X_test)\n",
    "tree_train = accuracy_score(y_train, y_train_pred)\n",
    "tree_test = accuracy_score(y_test, y_test_pred)\n",
    "print('Decision tree train/test %.3f/%.3f' % (tree_train, tree_test))"
   ]
  },
  {
   "cell_type": "code",
   "execution_count": 26,
   "metadata": {},
   "outputs": [
    {
     "name": "stdout",
     "output_type": "stream",
     "text": [
      "AdaBoost train/test accuracies 1.000/0.917\n"
     ]
    }
   ],
   "source": [
    "ada.fit(X_train, y_train)\n",
    "y_train_pred = ada.predict(X_train)\n",
    "y_test_pred = ada.predict(X_test)\n",
    "ada_train = accuracy_score(y_train, y_train_pred)\n",
    "ada_test = accuracy_score(y_test, y_test_pred)\n",
    "print('AdaBoost train/test accuracies %.3f/%.3f' % (ada_train, ada_test))"
   ]
  },
  {
   "cell_type": "code",
   "execution_count": null,
   "metadata": {},
   "outputs": [],
   "source": [
    "x_min = X_train[:, 0].min() -1\n",
    "x_max = X_train[:, 0].max() +1\n",
    "y_min = X_train[:, 1].min() -1\n",
    "y_max = X_train[:, 1].max() +1\n",
    "\n",
    "xx, yy = np.meshgrid(np.arange(x_min, x_max, 0.1),\n",
    "                    np.arange(y_min, y_max, 0.1))\n",
    "\n",
    "f, axarr = plt.subplots(1, 2,\n",
    "                       shrex = 'cor',\n",
    "                       sharey = 'row',\n",
    "                       figsize = (8,3))\n",
    "\n",
    "for idx, clf, tt in zip([0,1],\n",
    "                       [tree, ada],\n",
    "                       ['Decision tree', 'AdaBoost']):\n",
    "    clf.fit(X_train, y_train)\n",
    "    Z = clf.predict(np.c_[xx.ravel(), yy.ravel()])\n",
    "    Z = Z.reshape (xx.shape)\n",
    "    axarr[idx].contourf(xx, yy, Z, alpha =0.3)\n",
    "    axarr[idx].scatter(X_train[y_train == 0, 0],\n",
    "                      X_train[y_train == 0, 1],\n",
    "                      c = 'blue',marker = '^')\n",
    "    "
   ]
  }
 ],
 "metadata": {
  "kernelspec": {
   "display_name": "Python 3",
   "language": "python",
   "name": "python3"
  },
  "language_info": {
   "codemirror_mode": {
    "name": "ipython",
    "version": 3
   },
   "file_extension": ".py",
   "mimetype": "text/x-python",
   "name": "python",
   "nbconvert_exporter": "python",
   "pygments_lexer": "ipython3",
   "version": "3.6.4"
  }
 },
 "nbformat": 4,
 "nbformat_minor": 2
}
