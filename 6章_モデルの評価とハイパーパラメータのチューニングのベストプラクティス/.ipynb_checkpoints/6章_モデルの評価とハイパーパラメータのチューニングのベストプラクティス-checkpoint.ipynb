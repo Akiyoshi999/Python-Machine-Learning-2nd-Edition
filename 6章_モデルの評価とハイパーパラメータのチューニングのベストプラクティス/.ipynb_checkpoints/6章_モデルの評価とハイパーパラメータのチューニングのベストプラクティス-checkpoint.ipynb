{
 "cells": [
  {
   "cell_type": "markdown",
   "metadata": {},
   "source": [
    "本章では次の内容を取り上げる。\n",
    "\n",
    "- モデルの性能の偏りのない推定量の算出\n",
    "- 機会学習のアルゴリズムに共通する問題の診断\n",
    "- 機会学習のモデルのチューニング\n",
    "- さまざまな性能指標に基づく予測モデルの評価"
   ]
  },
  {
   "cell_type": "markdown",
   "metadata": {},
   "source": [
    "## 6.1 パイプラインによるワークフローの効率化"
   ]
  },
  {
   "cell_type": "code",
   "execution_count": 1,
   "metadata": {},
   "outputs": [],
   "source": [
    "import pandas as pd\n",
    "df = pd.read_csv('https://archive.ics.uci.edu/ml/machine-learning-databases/'\n",
    "                'breast-cancer-wisconsin/wdbc.data',\n",
    "                header=None)"
   ]
  },
  {
   "cell_type": "markdown",
   "metadata": {},
   "source": [
    "30個の特徴量をNumpy配列のオブジェクトXに割り当てる。LabelEncoderを使用することで、元のクラスラベルの文字列表現('M'および'B')を整数に変換。"
   ]
  },
  {
   "cell_type": "code",
   "execution_count": 2,
   "metadata": {},
   "outputs": [
    {
     "data": {
      "text/plain": [
       "array(['B', 'M'], dtype=object)"
      ]
     },
     "execution_count": 2,
     "metadata": {},
     "output_type": "execute_result"
    }
   ],
   "source": [
    "from sklearn.preprocessing import LabelEncoder\n",
    "X = df.loc[:,2:].values\n",
    "y = df.loc[:,1].values\n",
    "le = LabelEncoder()\n",
    "y = le.fit_transform(y)\n",
    "le.classes_"
   ]
  },
  {
   "cell_type": "markdown",
   "metadata": {},
   "source": [
    "配列yに格納されたクラスラベルを符号化した後は、悪性クラス1、良性クラス0で表されるようになる。具体的に示すには、適合されたLabelEncoderのtransformメソッドを呼び出し、2つのダミークラスラベルを渡せばよい。"
   ]
  },
  {
   "cell_type": "code",
   "execution_count": 3,
   "metadata": {},
   "outputs": [
    {
     "data": {
      "text/plain": [
       "array([1, 0], dtype=int64)"
      ]
     },
     "execution_count": 3,
     "metadata": {},
     "output_type": "execute_result"
    }
   ],
   "source": [
    "le.transform(['M','B'])"
   ]
  },
  {
   "cell_type": "markdown",
   "metadata": {},
   "source": [
    "データセットをトレニンーグデータセットとテストデータセットに分割(8:2)"
   ]
  },
  {
   "cell_type": "code",
   "execution_count": 4,
   "metadata": {},
   "outputs": [],
   "source": [
    "from sklearn.model_selection import train_test_split\n",
    "X_train,X_test,y_train,y_test = train_test_split(X,y,test_size=0.20,stratify=y,random_state=1)"
   ]
  },
  {
   "cell_type": "markdown",
   "metadata": {},
   "source": [
    "## 6.1 パイプラインで変換器と推定器を結合する\n",
    "最適な性能を得るために入力特徴量の尺度をそろえる。そのため標準化して、ロジスティクス回帰といった線形分類器に入力できるようにする。さらに**主成分分析(PCA)**を使用し、データを最初の30次元から2次元の部分空間に圧縮する。\n",
    "トレーニングデータセットとテストデータセットの学習と変換を別々に行う代わりにStandardScaler,PCA,LogisticRegressionの3つのオブジェクトをパイプラインで結合する。"
   ]
  },
  {
   "cell_type": "code",
   "execution_count": 5,
   "metadata": {},
   "outputs": [
    {
     "name": "stdout",
     "output_type": "stream",
     "text": [
      "Test Accuracy: 0.956\n"
     ]
    }
   ],
   "source": [
    "from sklearn.preprocessing import StandardScaler\n",
    "from sklearn.decomposition import PCA\n",
    "from sklearn.linear_model import LogisticRegression\n",
    "from sklearn.pipeline import make_pipeline\n",
    "# 連結する処理としてスケーリング、主成分分析、ロジスティクス回帰を指定\n",
    "pipe_lr = make_pipeline(StandardScaler(),PCA(n_components=2),LogisticRegression(random_state=1))\n",
    "pipe_lr.fit(X_train,y_train)\n",
    "y_pred = pipe_lr.predict(X_test)\n",
    "print('Test Accuracy: %.3f' % pipe_lr.score(X_test,y_test))"
   ]
  },
  {
   "cell_type": "markdown",
   "metadata": {},
   "source": [
    "## 6.2 k分割交差検証を使ったモデルの性能の評価"
   ]
  },
  {
   "cell_type": "code",
   "execution_count": 6,
   "metadata": {},
   "outputs": [
    {
     "name": "stdout",
     "output_type": "stream",
     "text": [
      "Fold:  1, Class dist.:[256 153] ,Acc: 0.935\n",
      "Fold:  2, Class dist.:[256 153] ,Acc: 0.935\n",
      "Fold:  3, Class dist.:[256 153] ,Acc: 0.957\n",
      "Fold:  4, Class dist.:[256 153] ,Acc: 0.957\n",
      "Fold:  5, Class dist.:[256 153] ,Acc: 0.935\n",
      "Fold:  6, Class dist.:[257 153] ,Acc: 0.956\n",
      "Fold:  7, Class dist.:[257 153] ,Acc: 0.978\n",
      "Fold:  8, Class dist.:[257 153] ,Acc: 0.933\n",
      "Fold:  9, Class dist.:[257 153] ,Acc: 0.956\n",
      "Fold: 10, Class dist.:[257 153] ,Acc: 0.956\n"
     ]
    }
   ],
   "source": [
    "import numpy as np\n",
    "from sklearn.model_selection import StratifiedKFold\n",
    "\n",
    "# 分割データ、分割数、乱数背姿勢器の状態を指定し、\n",
    "# 層化k分割交差検証イテレータを表すStratifiedKFoldクラスのインスタンス化\n",
    "kfold = StratifiedKFold(n_splits=10,random_state=1).split(X_train,y_train)\n",
    "scores = []\n",
    "\n",
    "\"\"\"\n",
    "イテレータのインデックスと要素をループ処理：（上から順に）\n",
    "    データをモデルに適合\n",
    "    テストデータの正解率を算出\n",
    "    リストに正解率を追加\n",
    "    分割の番号、0以上の要素数、正解率を出力\n",
    "\"\"\"\n",
    "for k ,(train,test)in enumerate(kfold):\n",
    "    # print(X_train[train])\n",
    "    pipe_lr.fit(X_train[train],y_train[train])\n",
    "    score = pipe_lr.score(X_train[test],y_train[test])\n",
    "    scores.append(score)\n",
    "    print('Fold: %2d, Class dist.:%s ,Acc: %.3f' % \n",
    "         (k+1,np.bincount(y_train[train]),score))"
   ]
  },
  {
   "cell_type": "code",
   "execution_count": 7,
   "metadata": {},
   "outputs": [
    {
     "name": "stdout",
     "output_type": "stream",
     "text": [
      "\n",
      "CV accuracy: 0.950 +/- 0.014\n"
     ]
    }
   ],
   "source": [
    "# 正解率の平均と標準偏差を出力\n",
    "print('\\nCV accuracy: %.3f +/- %.3f'% (np.mean(scores),np.std(scores)))"
   ]
  },
  {
   "cell_type": "markdown",
   "metadata": {},
   "source": [
    "#### scikit-learnにk分割交差検証の性能指標を算出する関数も実装されている。"
   ]
  },
  {
   "cell_type": "code",
   "execution_count": 8,
   "metadata": {},
   "outputs": [
    {
     "name": "stdout",
     "output_type": "stream",
     "text": [
      "CV accuracy scores:[0.93478261 0.93478261 0.95652174 0.95652174 0.93478261 0.95555556\n",
      " 0.97777778 0.93333333 0.95555556 0.95555556]\n",
      "CV accuracy: 0.950 +/- 0.014\n"
     ]
    }
   ],
   "source": [
    "from sklearn.model_selection import cross_val_score\n",
    "# 交差検証のcross_val_score関数でモデルの正解率を算出\n",
    "# 推定量estimator、トレーニングデータX、予測値y、分割数cv、CPU数n_jobsを指定\n",
    "scores = cross_val_score(estimator=pipe_lr,X=X_train,y=y_train,\n",
    "                        cv=10,n_jobs=1)\n",
    "print('CV accuracy scores:%s' % scores)\n",
    "\n",
    "print('CV accuracy: %.3f +/- %.3f' % (np.mean(scores),np.std(scores)))"
   ]
  },
  {
   "cell_type": "markdown",
   "metadata": {},
   "source": [
    "## 6.3 学習曲線と検証曲線によるアルゴリズムの診断\n",
    "学習アルゴリズムの性能を向上させるのに役立つ**学習曲線(learning curve)**と**検証曲線(validation curve)**を取り上げる。\n",
    "過学習（バリアンスが高い）または学習不足（バイアスが高い）の問題があるかどうかを、学習曲線を使用し診断する。"
   ]
  },
  {
   "cell_type": "markdown",
   "metadata": {},
   "source": [
    "### 6.3.1 学習曲線を使ってバイアスとバリアンスの問題を診断する。"
   ]
  },
  {
   "cell_type": "code",
   "execution_count": 9,
   "metadata": {},
   "outputs": [
    {
     "data": {
      "text/plain": [
       "<matplotlib.figure.Figure at 0x1ee0bf7be80>"
      ]
     },
     "metadata": {},
     "output_type": "display_data"
    }
   ],
   "source": [
    "import matplotlib.pyplot as plt\n",
    "from sklearn.model_selection import learning_curve\n",
    "pipe_lr = make_pipeline(StandardScaler(),\n",
    "                       LogisticRegression(penalty='l2',random_state=1))\n",
    "# learning_curve関数で交差検証による正解率を算出\n",
    "train_sizes,train_scores,test_scores = learning_curve(estimator=pipe_lr,\n",
    "                                                     X=X_train,\n",
    "                                                     y=y_train,\n",
    "                                                     train_sizes=np.linspace(0.1,1.0,10),\n",
    "                                                     cv=10,\n",
    "                                                     n_jobs=1)\n",
    "train_mean = np.mean(train_scores,axis=1)\n",
    "train_std = np.std(train_scores,axis=1)\n",
    "test_mean = np.mean(test_scores,axis=1)\n",
    "test_std = np.std(test_scores,axis=1)\n",
    "plt.plot(train_sizes,train_mean,\n",
    "        color='blue',marker='o',\n",
    "        markersize=5,\n",
    "        label='training accuracy')\n",
    "\n",
    "# fill_between関数で平均±標準偏差の幅を塗りつぶす\n",
    "plt.fill_between(train_sizes,\n",
    "                train_mean + train_std,\n",
    "                train_mean - train_std,\n",
    "                alpha=0.15,color='blue')\n",
    "plt.plot(train_sizes,test_mean,\n",
    "        color='green',linestyle='--',\n",
    "        marker='s',markersize=5,\n",
    "        label='validation accuracy')\n",
    "plt.fill_between(train_sizes,\n",
    "                test_mean + test_std,\n",
    "                test_mean - test_std,\n",
    "                alpha=0.15,color='green')\n",
    "\n",
    "plt.grid()\n",
    "plt.xlabel('Number of training sample')\n",
    "plt.ylabel('Accuracy')\n",
    "plt.ylim([0.8,1.05])\n",
    "plt.legend(loc='best')\n",
    "plt.tight_layout()\n",
    "plt.show()"
   ]
  },
  {
   "cell_type": "markdown",
   "metadata": {},
   "source": [
    "## 6.3 検証曲線を使って過学習と学習不足を明らかにする\n",
    "検証曲線は学習曲線に関連しているが、トレーニングとテストの正解率をサンプルノイズの関数としてプロットするのではなく、サンプルノイズの代わりにモデルのパラメータの値を変化させる。"
   ]
  },
  {
   "cell_type": "code",
   "execution_count": 10,
   "metadata": {},
   "outputs": [
    {
     "data": {
      "image/png": "[encoded data removed]",
      "text/plain": [
       "<matplotlib.figure.Figure at 0x1ee0bf7b550>"
      ]
     },
     "metadata": {
      "needs_background": "light"
     },
     "output_type": "display_data"
    }
   ],
   "source": [
    "from sklearn.model_selection import validation_curve\n",
    "param_range = [0.001,0.01,0.1,1.0,10.0,100.0]\n",
    "\n",
    "# validation_curve関数によりモデルのパラメータを変化させ交差検証による正解率を算出\n",
    "# clf_CはLogisticRegressionオブジェクトのパラメータ\n",
    "train_scores,test_scores = validation_curve(estimator=pipe_lr,\n",
    "                                           X=X_train,\n",
    "                                           y=y_train,\n",
    "                                           param_name='logisticregression__C',\n",
    "                                           param_range=param_range,\n",
    "                                           cv=10)\n",
    "train_mean = np.mean(train_scores,axis=1)\n",
    "train_std = np.std(train_scores,axis=1)\n",
    "test_mean = np.mean(test_scores,axis=1)\n",
    "test_std = np.std(test_scores,axis=1)\n",
    "plt.plot(param_range,train_mean,\n",
    "        color='blue',marker='o',\n",
    "        markersize=5,\n",
    "        label='training accuracy')\n",
    "plt.fill_between(param_range,\n",
    "                train_mean + train_std,\n",
    "                train_mean - train_std,\n",
    "                alpha=0.15,color='blue')\n",
    "\n",
    "plt.plot(param_range,test_mean,\n",
    "        color='green',linestyle='--',\n",
    "        markersize=5,\n",
    "        label='validation accuracy')\n",
    "plt.fill_between(param_range,\n",
    "                test_mean + test_std,\n",
    "                test_mean - test_std,\n",
    "                alpha=0.15,color='green')\n",
    "plt.grid()\n",
    "plt.xscale('log')\n",
    "plt.legend(loc='best')\n",
    "plt.xlabel('Parameter C')\n",
    "plt.ylabel('Accuracy')\n",
    "plt.ylim([0.8,1.0])\n",
    "plt.tight_layout()\n",
    "plt.show()"
   ]
  },
  {
   "cell_type": "markdown",
   "metadata": {},
   "source": [
    "## 6.4 グリッドサーチによる機会学習モデルのチューニング\n",
    "**グリッドサーチ(grid seach)**はハイパーパラメータの値の「最適」な組み合わせを見つけ出すことができる。"
   ]
  },
  {
   "cell_type": "markdown",
   "metadata": {},
   "source": [
    "### グリッドサーチを使ったハイパーパラメータのチューニング"
   ]
  },
  {
   "cell_type": "code",
   "execution_count": 11,
   "metadata": {},
   "outputs": [
    {
     "name": "stdout",
     "output_type": "stream",
     "text": [
      "0.9846153846153847\n",
      "{'svc__C': 100.0, 'svc__gamma': 0.001, 'svc__kernel': 'rbf'}\n",
      "Pipeline(memory=None,\n",
      "     steps=[('standardscaler', StandardScaler(copy=True, with_mean=True, with_std=True)), ('svc', SVC(C=100.0, cache_size=200, class_weight=None, coef0=0.0,\n",
      "  decision_function_shape='ovr', degree=3, gamma=0.001, kernel='rbf',\n",
      "  max_iter=-1, probability=False, random_state=1, shrinking=True,\n",
      "  tol=0.001, verbose=False))])\n"
     ]
    }
   ],
   "source": [
    "from sklearn.model_selection import GridSearchCV\n",
    "from sklearn.svm import SVC\n",
    "pipe_svc = make_pipeline(StandardScaler(),\n",
    "                        SVC(random_state=1))\n",
    "\n",
    "param_range = [0.0001,0.001,0.1,1.0,10.0,100.0,1000.0]\n",
    "param_grid = [{'svc__C':param_range,\n",
    "              'svc__kernel':['linear']},\n",
    "             {'svc__C':param_range,\n",
    "             'svc__gamma':param_range,\n",
    "             'svc__kernel':['rbf']}]\n",
    "\n",
    "# ハイパーパラメータ値のリストparam_gridを指定し、\n",
    "# グリッドサーチを行うGridseachCVクラスをインスタンス化\n",
    "gs = GridSearchCV(estimator=pipe_svc,\n",
    "                 param_grid=param_grid,\n",
    "                 scoring='accuracy',\n",
    "                 cv=10,\n",
    "                 n_jobs=-1)\n",
    "gs = gs.fit(X_train,y_train)\n",
    "\n",
    "# モデルの最良スコアを出力\n",
    "print(gs.best_score_)\n",
    "\n",
    "# 最良スコアとなるパラメータ値を出力\n",
    "print(gs.best_params_)\n",
    "\n",
    "print(gs.best_estimator_)"
   ]
  },
  {
   "cell_type": "markdown",
   "metadata": {},
   "source": [
    "トレーニングデータセットから独立したテストデータセットを使って、選択されたモデルの性能を評価する。モデルを取得するにはGridseachCVオブジェクトのbest_estimator_属性を使用する。"
   ]
  },
  {
   "cell_type": "code",
   "execution_count": 12,
   "metadata": {},
   "outputs": [
    {
     "name": "stdout",
     "output_type": "stream",
     "text": [
      "Test accuracy: 0.991\n"
     ]
    }
   ],
   "source": [
    "clf = gs.best_estimator_\n",
    "clf.fit(X_test,y_test)\n",
    "print('Test accuracy: %.3f' % clf.score(X_test,y_test))"
   ]
  },
  {
   "cell_type": "markdown",
   "metadata": {},
   "source": [
    "## 6.4 入れ子式の交差検証によるアルゴリズムの選択\n",
    "機会学習アルゴリズムの中から最適な選択をしたい場合は、入れ子式の交差検証(nested cross-validation)も推奨される。"
   ]
  },
  {
   "cell_type": "code",
   "execution_count": 13,
   "metadata": {},
   "outputs": [
    {
     "name": "stdout",
     "output_type": "stream",
     "text": [
      "CV accuracy: 0.934 +/-0.016\n"
     ]
    }
   ],
   "source": [
    "from sklearn.tree import DecisionTreeClassifier\n",
    "#ハイパーパラメータ値として決定木の深さパラメータを指定し、\n",
    "#グリッドサーチを行うGridseachCVをインスタンス化\n",
    "gs = GridSearchCV(estimator=DecisionTreeClassifier(random_state=0),\n",
    "                 param_grid=[{'max_depth':[1,2,3,4,5,6,7,None]}],\n",
    "                 scoring='accuracy',\n",
    "                 cv=2)\n",
    "\n",
    "scores = cross_val_score(gs,\n",
    "                        X_train,\n",
    "                        y_train,\n",
    "                        scoring='accuracy',\n",
    "                        cv=5)\n",
    "print('CV accuracy: %.3f +/-%.3f' % (np.mean(scores),np.std(scores)))"
   ]
  },
  {
   "cell_type": "markdown",
   "metadata": {},
   "source": [
    "## 6.5 さまざまな性能評価指標\n",
    "**適合率(precision)**、**再現率(recall)**、**F1スコア(F1-score)**などの性能指標により、モデルの妥当性を評価できる。"
   ]
  },
  {
   "cell_type": "markdown",
   "metadata": {},
   "source": [
    "### 混同行列を解釈する\n",
    "混同行列は学習アルゴリズムの性能を明らかにする行列である、分類器**真陽性(true positive)**、真陰性(true negative)、偽陽性(false positive)、偽陰性(false negative)**の4つの予測の個数を報告する単なる正方行列である。"
   ]
  },
  {
   "cell_type": "code",
   "execution_count": 14,
   "metadata": {},
   "outputs": [
    {
     "name": "stdout",
     "output_type": "stream",
     "text": [
      "[[71  1]\n",
      " [ 2 40]]\n"
     ]
    }
   ],
   "source": [
    "from sklearn.metrics import confusion_matrix\n",
    "pipe_svc.fit(X_train,y_train)\n",
    "y_pred = pipe_svc.predict(X_test)\n",
    "\n",
    "# テストと予測のデータから混同行列を作成\n",
    "confmat = confusion_matrix(y_true=y_test,y_pred=y_pred)\n",
    "print(confmat)"
   ]
  },
  {
   "cell_type": "markdown",
   "metadata": {},
   "source": [
    "誤分類に関する情報を対応づけるにはmatplotlibのmatshow関数を使用する"
   ]
  },
  {
   "cell_type": "code",
   "execution_count": 20,
   "metadata": {},
   "outputs": [
    {
     "data": {
      "image/png": "[encoded data removed]",
      "text/plain": [
       "<matplotlib.figure.Figure at 0x1ee0f3014e0>"
      ]
     },
     "metadata": {
      "needs_background": "light"
     },
     "output_type": "display_data"
    }
   ],
   "source": [
    "# 図のサイズを指定\n",
    "fig,ax = plt.subplots(figsize=(2.5,2.5))\n",
    "# matshow関数で行列からヒートマップを描画\n",
    "ax.matshow(confmat,cmap=plt.cm.Blues,alpha=0.3)\n",
    "for i in range(confmat.shape[0]):\n",
    "    for j in range(confmat.shape[1]):\n",
    "                  ax.text(x=j,y=i,s=confmat[i,j],va='center',ha='center')\n",
    "\n",
    "plt.xlabel('predicted label')\n",
    "plt.ylabel('true label')\n",
    "plt.tight_layout()\n",
    "plt.show()"
   ]
  },
  {
   "cell_type": "markdown",
   "metadata": {},
   "source": [
    "## 分類モデルの適合率と再現率を最適化する"
   ]
  },
  {
   "cell_type": "code",
   "execution_count": 22,
   "metadata": {},
   "outputs": [
    {
     "name": "stdout",
     "output_type": "stream",
     "text": [
      "Precision : 0.976\n",
      "Recall : 0.952\n",
      "F1 : 0.964\n"
     ]
    }
   ],
   "source": [
    "# 適合率、再現率、F1スコアを出力\n",
    "from sklearn.metrics import precision_score\n",
    "from sklearn.metrics import recall_score,f1_score\n",
    "print('Precision : %.3f' % precision_score(y_true=y_test,y_pred=y_pred))\n",
    "print('Recall : %.3f' % recall_score(y_true=y_test,y_pred=y_pred))\n",
    "print('F1 : %.3f' % f1_score(y_true=y_test,y_pred=y_pred))"
   ]
  },
  {
   "cell_type": "code",
   "execution_count": 23,
   "metadata": {},
   "outputs": [
    {
     "name": "stdout",
     "output_type": "stream",
     "text": [
      "0.9880219137963148\n",
      "{'svc__C': 100.0, 'svc__gamma': 0.001, 'svc__kernel': 'rbf'}\n"
     ]
    }
   ],
   "source": [
    "# カスタムの性能指標を出力\n",
    "from sklearn.metrics import make_scorer,f1_score\n",
    "scorer = make_scorer(f1_score,pos_label=0)\n",
    "gs = GridSearchCV(estimator=pipe_svc,\n",
    "                 param_grid=param_grid,\n",
    "                 scoring=scorer,\n",
    "                 cv=10,\n",
    "                 n_jobs=-1)\n",
    "gs = gs.fit(X_train,y_train)\n",
    "print(gs.best_score_)\n",
    "print(gs.best_params_)"
   ]
  },
  {
   "cell_type": "markdown",
   "metadata": {},
   "source": [
    "### ROC曲線をプロットする\n",
    "受信者操作特性(Receiver Operating Characteristic:ROC)曲線は、性能に基づいて分類モデルを選択するための便利なツールである。ROC曲線の対角線は当て推量(ランダムな推定)として解釈でき、対角線を下回る分類モデルは当て推量よりも劣るとみなす。\n",
    "\n",
    "分類モデルの性能を明らかにするために、ROC曲線に基づいて**曲線下面積(Area Under Curve:AUC)**を計算できる。"
   ]
  },
  {
   "cell_type": "code",
   "execution_count": 24,
   "metadata": {},
   "outputs": [
    {
     "data": {
      "image/png": "[encoded data removed]",
      "text/plain": [
       "<matplotlib.figure.Figure at 0x1ee0bf8a358>"
      ]
     },
     "metadata": {
      "needs_background": "light"
     },
     "output_type": "display_data"
    }
   ],
   "source": [
    "# Brest Cancer Wisconsin データセットの特徴量を2つだけ使用し、ROC曲線をプロットする。\n",
    "from sklearn.metrics import roc_curve,auc\n",
    "from scipy import interp\n",
    "\n",
    "#スケーリング、主成分分析、ロジスティクス回帰を指定\n",
    "# Pipelineクラスをインスタンス化\n",
    "pipe_lr = make_pipeline(StandardScaler(),\n",
    "                       PCA(n_components=2),\n",
    "                       LogisticRegression(penalty='l2',random_state=1,C=100.0))\n",
    "\n",
    "# 2つの特徴量を抽出\n",
    "X_train2 = X_train[:,[4,14]]\n",
    "# 層化k分割交差検証イテレータを表す StratifiedKFoldクラスをインスタンス化\n",
    "cv = list(StratifiedKFold(n_splits=3,random_state=1).split(X_train,y_train))\n",
    "fig = plt.figure(figsize=(7,5))\n",
    "mean_tpr = 0.0\n",
    "# 0から1までの間で100個の要素を生成\n",
    "mean_fpr = np.linspace(0,1,100)\n",
    "all_tpr = []\n",
    "for i,(train,test) in enumerate(cv):\n",
    "    # predict_probaメソッドで確率を予測、fitメソッドでモデルに適合させる\n",
    "    probas = pipe_lr.fit(X_train2[train],\n",
    "                        y_train[train]).predict_proba(X_train2[test])\n",
    "    # roc_curve関数でROC曲線の性能を計算してプロット\n",
    "    fpr,tpr,thresholds = roc_curve(y_train[test],probas[:,1],pos_label=1)\n",
    "    mean_tpr +=interp(mean_fpr,fpr,tpr) # FPR(X軸)とTPR(Y軸)を線形補間\n",
    "    mean_tpr[0] = 0.0\n",
    "    roc_auc = auc(fpr,tpr)\n",
    "    plt.plot(fpr,tpr,label='ROC fold %d (area = %0.2f)' % (i+1,roc_auc))\n",
    "    \n",
    "    \n",
    "# 当て推量をプロット\n",
    "plt.plot([0,1],\n",
    "        [0,1],\n",
    "        linestyle='--',\n",
    "        color=(0.6,0.6,0.6),\n",
    "        label='random guessing')\n",
    "\n",
    "# FPR,TPR,ROC,AUCそれぞれの平均を計算してプロット\n",
    "mean_tpr /= len(cv)\n",
    "mean_tpr[-1] = 1.0\n",
    "mean_auc = auc(mean_fpr,mean_tpr)\n",
    "plt.plot(mean_fpr,mean_tpr,'k--',\n",
    "        label='mean ROC (area = %0.2f)' % mean_auc,lw=2)\n",
    "# 完全に予測が正解したときのROC曲線をプロット\n",
    "plt.plot([0,0,1],\n",
    "        [0,1,1],\n",
    "        linestyle=':',\n",
    "        color='black',\n",
    "        label='perfect performance')\n",
    "\n",
    "# グラフの各項目を指定\n",
    "plt.xlim([-0.05,1.05])\n",
    "plt.ylim([-0.05,1.05])\n",
    "plt.xlabel('false positive rate')\n",
    "plt.ylabel('true positive rate')\n",
    "plt.legend(loc='best')\n",
    "plt.tight_layout()\n",
    "plt.show()"
   ]
  },
  {
   "cell_type": "markdown",
   "metadata": {},
   "source": [
    "### 多クラス分類のための性能指標\n",
    "本章で説明した性能指標は、二値分類問題に特化したものである。これに対してscikit-learnには、**マクロ(macr)**平均法と**マイクロ(micro)**平均法も実装されている。これらは**一対全(One-versus-All)**分類を通じてそれらの性能指標を多クラス問題に拡張するものである。\n",
    "\n",
    "マイクロ平均が役立つのは各インスタンスまたは予測を平等に重みづけしたい場合である。\n",
    "マクロ平均は最も出現するクラスラベルに適度の影響を受けることなく分類器の全体的な性能を評価するために、すべてのクラスを平等に重みづけする。\n",
    "重み付けされたマクロ平均が役立つ場合は、クラスの不均ーーラベルごごとにインスタンスの個数が異なるーーに対処する場合である。"
   ]
  },
  {
   "cell_type": "markdown",
   "metadata": {},
   "source": [
    "scikit-learnの場合、多クラス問題では重み付けされたマクロ平均法がデフォルトで使用される。\n",
    "sklearn.metricsモジュールからはprecision_score関数やmake_scorer関数などさまざまな関数のインポートが可能。"
   ]
  },
  {
   "cell_type": "code",
   "execution_count": 25,
   "metadata": {},
   "outputs": [],
   "source": [
    "pre_scorer = make_scorer(score_func=precision_score,\n",
    "                        pos_label=1,\n",
    "                        greater_is_better=True,\n",
    "                        average='micro')"
   ]
  },
  {
   "cell_type": "markdown",
   "metadata": {},
   "source": [
    "## 6.6 クラスの不均衡に対処する\n",
    "Breast Cancer Wisconsinデータセットから不均衡なデータセットを作成する。"
   ]
  },
  {
   "cell_type": "code",
   "execution_count": 27,
   "metadata": {},
   "outputs": [],
   "source": [
    "X_imb = np.vstack((X[y == 0],X[y == 1][:40]))\n",
    "y_imb = np.hstack((y[y == 0],y[y == 1][:40]))"
   ]
  },
  {
   "cell_type": "code",
   "execution_count": 28,
   "metadata": {},
   "outputs": [
    {
     "data": {
      "text/plain": [
       "89.92443324937027"
      ]
     },
     "execution_count": 28,
     "metadata": {},
     "output_type": "execute_result"
    }
   ],
   "source": [
    "y_pred = np.zeros(y_imb.shape[0])\n",
    "np.mean(y_pred == y_imb) * 100"
   ]
  },
  {
   "cell_type": "markdown",
   "metadata": {},
   "source": [
    "こうしたデータセットで分類器を適合させる場合は、正解率以外の性能指標(適合率、再現率、ROC曲線など)を調べるのが合理的である。\n",
    "またモデルを適合させるときにクラスの不均衡な割合に対処する方法の１つは、少数派クラスに関する誤った予測に大きなペナルティを科すことである。\n",
    "その他の方法としては、少数派クラスのアップサンプリング、多数派クラスのダウンサンプリング、人工的なトレーニングサンプルの生成などがよく知られる。"
   ]
  },
  {
   "cell_type": "markdown",
   "metadata": {},
   "source": [
    "scikit-learnには少数派クラスのアップサンプリングに役立つresampleという関数が実装されている。この関数はデータセットから新しいサンプルを復元抽出する。"
   ]
  },
  {
   "cell_type": "code",
   "execution_count": 35,
   "metadata": {},
   "outputs": [
    {
     "name": "stdout",
     "output_type": "stream",
     "text": [
      "Number of class 1 sample before: 40\n",
      "Number of class 1 sample after: 357\n"
     ]
    }
   ],
   "source": [
    "from sklearn.utils import resample\n",
    "print('Number of class 1 sample before:',X_imb[y_imb == 1].shape[0])\n",
    "\n",
    "# サンプルの個数がクラス0と同じになるまで新しいサンプルの抽出\n",
    "X_upsampled,y_upsampled = resample(X_imb[y_imb==1],\n",
    "                                y_imb[y_imb==1],\n",
    "                                replace=True,\n",
    "                                n_samples=X_imb[y_imb==0].shape[0],\n",
    "                                random_state=123)\n",
    "\n",
    "print('Number of class 1 sample after:',X_upsampled.shape[0])"
   ]
  },
  {
   "cell_type": "code",
   "execution_count": 46,
   "metadata": {},
   "outputs": [],
   "source": [
    "X_bal = np.vstack((X[y==0],X_upsampled))\n",
    "y_bal = np.hstack((y[y==0],y_upsampled))\n",
    "# print(X_bal,y_bal)"
   ]
  },
  {
   "cell_type": "code",
   "execution_count": 49,
   "metadata": {},
   "outputs": [
    {
     "data": {
      "text/plain": [
       "50.0"
      ]
     },
     "execution_count": 49,
     "metadata": {},
     "output_type": "execute_result"
    }
   ],
   "source": [
    "y_pred = np.zeros(y_bal.shape[0])\n",
    "np.mean(y_pred == y_bal)* 100"
   ]
  }
 ],
 "metadata": {
  "kernelspec": {
   "display_name": "Python 3",
   "language": "python",
   "name": "python3"
  },
  "language_info": {
   "codemirror_mode": {
    "name": "ipython",
    "version": 3
   },
   "file_extension": ".py",
   "mimetype": "text/x-python",
   "name": "python",
   "nbconvert_exporter": "python",
   "pygments_lexer": "ipython3",
   "version": "3.6.4"
  }
 },
 "nbformat": 4,
 "nbformat_minor": 2
}
