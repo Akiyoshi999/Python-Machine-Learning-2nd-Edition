{
 "cells": [
  {
   "cell_type": "markdown",
   "metadata": {},
   "source": [
    "## パーセプトロンの実装"
   ]
  },
  {
   "cell_type": "code",
   "execution_count": 1,
   "metadata": {},
   "outputs": [],
   "source": [
    "import numpy as np\n",
    "class Perceptron(object):\n",
    "    \"\"\"パーセプトロンの分類器\n",
    "    \n",
    "    パラメータ\n",
    "    ーーーーーーーーー\n",
    "    eta:float\n",
    "        学習率(0.0より大きく1.0より小さい)\n",
    "    n_iter:int\n",
    "        トレーニングデータのトレーニング回数\n",
    "    random_state:int\n",
    "        重みを初期化するための乱数シード\n",
    "    \n",
    "    \n",
    "    属性\n",
    "    ーーーーーーーーー\n",
    "    w_:1次元配列\n",
    "        適合後の重み\n",
    "    errors：リスト\n",
    "        各エポックでの誤分類(更新)の数\n",
    "        \n",
    "    \"\"\"\n",
    "    def __init__(self,eta=0.01,n_iter=50,random_state=1):\n",
    "        self.eta = eta\n",
    "        self.n_iter = n_iter\n",
    "        self.random_state = random_state\n",
    "        \n",
    "    def fit(self,X,y):\n",
    "        \"\"\"トレーニングデータに適合させる\n",
    "        \n",
    "        パラメータ\n",
    "        ーーーーーーーーー\n",
    "        X:｛配列のようなデータ構造｝,shape=[n_samples,n_features]\n",
    "            トレニンーグデータ\n",
    "            n_samplesはサンプルの個数、shape = [n_samples]\n",
    "        y:配列のようなデータ構造、shape = [n_samples]\n",
    "            目的変数\n",
    "            \n",
    "        戻り値\n",
    "        ーーーーーーーーー\n",
    "        self:object\n",
    "        \n",
    "        \"\"\"\n",
    "        \n",
    "        rgen = np.random.RandomState(self.random_state)\n",
    "        self.w_ = rgen.normal(loc = 0.0,scale = 0.01,size = 1 + X.shape[1])\n",
    "        self.errors_ = []\n",
    "        \n",
    "        for _ in range(self.n_iter):  # トレーニング回数文トレーニングデータを反復\n",
    "            errors = 0\n",
    "            for xi,target in zip(X,y): #　各サンプルで重みを更新\n",
    "                # 重みの更新\n",
    "                update = self.eta * (target - self.predict(xi))\n",
    "                self.w_[1:] += update *xi\n",
    "                # 重み　w0の更新\n",
    "                self.w_[0] += update\n",
    "                # 重みの更新が0でない場合は誤分類としてカウント\n",
    "                errors += int(update!=0.0)\n",
    "            # 反復回数ごとの誤分類を格納\n",
    "            self.errors_.append(errors)\n",
    "        return self\n",
    "    \n",
    "    \n",
    "    def net_input(self,X):\n",
    "        # 総入力数を計算\n",
    "        return np.dot(X,self.w_[1:])+self.w_[0]\n",
    "    \n",
    "    def predict(self,X):\n",
    "        # 1ステップ毎のクラスラベルを返す\n",
    "        return np.where(self.net_input(X) >= 0.0,1,-1)"
   ]
  },
  {
   "cell_type": "code",
   "execution_count": 2,
   "metadata": {},
   "outputs": [
    {
     "data": {
      "text/html": [
       "<div>\n",
       "<style scoped>\n",
       "    .dataframe tbody tr th:only-of-type {\n",
       "        vertical-align: middle;\n",
       "    }\n",
       "\n",
       "    .dataframe tbody tr th {\n",
       "        vertical-align: top;\n",
       "    }\n",
       "\n",
       "    .dataframe thead th {\n",
       "        text-align: right;\n",
       "    }\n",
       "</style>\n",
       "<table border=\"1\" class=\"dataframe\">\n",
       "  <thead>\n",
       "    <tr style=\"text-align: right;\">\n",
       "      <th></th>\n",
       "      <th>0</th>\n",
       "      <th>1</th>\n",
       "      <th>2</th>\n",
       "      <th>3</th>\n",
       "      <th>4</th>\n",
       "    </tr>\n",
       "  </thead>\n",
       "  <tbody>\n",
       "    <tr>\n",
       "      <th>0</th>\n",
       "      <td>5.1</td>\n",
       "      <td>3.5</td>\n",
       "      <td>1.4</td>\n",
       "      <td>0.2</td>\n",
       "      <td>Iris-setosa</td>\n",
       "    </tr>\n",
       "    <tr>\n",
       "      <th>1</th>\n",
       "      <td>4.9</td>\n",
       "      <td>3.0</td>\n",
       "      <td>1.4</td>\n",
       "      <td>0.2</td>\n",
       "      <td>Iris-setosa</td>\n",
       "    </tr>\n",
       "    <tr>\n",
       "      <th>2</th>\n",
       "      <td>4.7</td>\n",
       "      <td>3.2</td>\n",
       "      <td>1.3</td>\n",
       "      <td>0.2</td>\n",
       "      <td>Iris-setosa</td>\n",
       "    </tr>\n",
       "    <tr>\n",
       "      <th>3</th>\n",
       "      <td>4.6</td>\n",
       "      <td>3.1</td>\n",
       "      <td>1.5</td>\n",
       "      <td>0.2</td>\n",
       "      <td>Iris-setosa</td>\n",
       "    </tr>\n",
       "    <tr>\n",
       "      <th>4</th>\n",
       "      <td>5.0</td>\n",
       "      <td>3.6</td>\n",
       "      <td>1.4</td>\n",
       "      <td>0.2</td>\n",
       "      <td>Iris-setosa</td>\n",
       "    </tr>\n",
       "  </tbody>\n",
       "</table>\n",
       "</div>"
      ],
      "text/plain": [
       "     0    1    2    3            4\n",
       "0  5.1  3.5  1.4  0.2  Iris-setosa\n",
       "1  4.9  3.0  1.4  0.2  Iris-setosa\n",
       "2  4.7  3.2  1.3  0.2  Iris-setosa\n",
       "3  4.6  3.1  1.5  0.2  Iris-setosa\n",
       "4  5.0  3.6  1.4  0.2  Iris-setosa"
      ]
     },
     "execution_count": 2,
     "metadata": {},
     "output_type": "execute_result"
    }
   ],
   "source": [
    "import pandas as pd\n",
    "df = pd.read_csv('https://archive.ics.uci.edu/ml/'\n",
    "                'machine-learning-databases/iris/iris.data',header=None)\n",
    "df.head()"
   ]
  },
  {
   "cell_type": "code",
   "execution_count": 3,
   "metadata": {},
   "outputs": [
    {
     "data": {
      "text/plain": [
       "<matplotlib.figure.Figure at 0x2a635c13358>"
      ]
     },
     "metadata": {},
     "output_type": "display_data"
    }
   ],
   "source": [
    "import matplotlib.pyplot as plt\n",
    "import numpy as np\n",
    "# 1-100行目の目的変数の抽出\n",
    "y = df.iloc[0:100,4].values\n",
    "# Iris-setosaを-1、Iris-versicolorを１\n",
    "y = np.where(y == 'Iris-setosa',-1,1)\n",
    "# 1-100行目の1，3行目超出\n",
    "X = df.iloc[0:100,[0,2]].values\n",
    "# setosaを赤の〇、varsicolorを青の×、　軸のラベルを設定\n",
    "plt.scatter(X[:50,0],X[:50,1],color = 'green',marker='o',label='setosa')\n",
    "plt.scatter(X[50:100,0],X[50:100,1],color = 'blue',marker='x',label='versicolor')\n",
    "plt.xlabel('sepal length[cm]')\n",
    "plt.ylabel('petal length[cm]')\n",
    "# 凡例の設定\n",
    "plt.legend(loc='upper left')\n",
    "plt.show()"
   ]
  },
  {
   "cell_type": "code",
   "execution_count": 4,
   "metadata": {},
   "outputs": [
    {
     "data": {
      "image/png": "[encoded data removed]",
      "text/plain": [
       "<matplotlib.figure.Figure at 0x2a635c08940>"
      ]
     },
     "metadata": {
      "needs_background": "light"
     },
     "output_type": "display_data"
    }
   ],
   "source": [
    "ppn = Perceptron(eta=0.1,n_iter=10)\n",
    "ppn.fit(X,y)\n",
    "plt.plot(range(1,len(ppn.errors_)+1),ppn.errors_,marker='o')\n",
    "plt.xlabel('Epochs')\n",
    "plt.ylabel('Number of update')\n",
    "plt.show()"
   ]
  },
  {
   "cell_type": "code",
   "execution_count": 5,
   "metadata": {},
   "outputs": [],
   "source": [
    "from matplotlib.colors import ListedColormap\n",
    "\n",
    "def plot_decision_regions(X,y,classifier,resolution=0.02):\n",
    "    \n",
    "    #　マーカーとカラーマップの準備\n",
    "    markers = ('s','x','o','^','v')\n",
    "    colors = ('red','blue','lightgreen','gray','cyan')\n",
    "    cmap = ListedColormap(colors[:len(np.unique(y))])\n",
    "    \n",
    "    #決定境界のプロット\n",
    "    x1_min,x1_max = X[:,0].min()-1,X[:,0].max()+1\n",
    "    x2_min,x2_max = X[:,1].min()-1,X[:,1].max()+1\n",
    "    xx1,xx2 = np.meshgrid(np.arange(x1_min,x1_max,resolution),\n",
    "                         np.arange(x2_min,x2_max,resolution))\n",
    "\n",
    "    #各特徴量を1次元配列に変換して予測を実行する\n",
    "    Z = classifier.predict(np.array([xx1.ravel(),xx2.ravel()]).T)\n",
    "    # 予測結果を元のグリッドポイントのデータサイズに変換\n",
    "    Z = Z.reshape(xx1.shape)\n",
    "    # グリッドポイントの等高線のプロット\n",
    "    plt.contourf(xx1,xx2,Z,alpha=0.3,cmap=cmap)\n",
    "    # 軸の範囲の決定\n",
    "    plt.xlim(xx1.min(),xx1.max())\n",
    "    plt.ylim(xx2.min(),xx2.max())\n",
    "    \n",
    "    # クラスごとにサンプルをプロット\n",
    "    for idx,cl in enumerate(np.unique(y)):\n",
    "        plt.scatter(x=X[y ==cl,0],\n",
    "                   y=X[y == cl , 1],\n",
    "                    alpha = 0.8,\n",
    "                    c = colors[idx],\n",
    "                    marker = markers[idx],\n",
    "                    label = cl,\n",
    "                    edgecolor = 'black')"
   ]
  },
  {
   "cell_type": "code",
   "execution_count": 6,
   "metadata": {},
   "outputs": [
    {
     "data": {
      "image/png": "[encoded data removed]",
      "text/plain": [
       "<matplotlib.figure.Figure at 0x2a635c08358>"
      ]
     },
     "metadata": {
      "needs_background": "light"
     },
     "output_type": "display_data"
    }
   ],
   "source": [
    "plot_decision_regions(X,y,classifier=ppn)\n",
    "\n",
    "plt.xlabel('sepal length[cm]')\n",
    "plt.ylabel('petal length[cm]')\n",
    "plt.legend(loc='upper left')\n",
    "plt.show()"
   ]
  },
  {
   "cell_type": "markdown",
   "metadata": {},
   "source": [
    "## ADALINEの実装"
   ]
  },
  {
   "cell_type": "code",
   "execution_count": 7,
   "metadata": {},
   "outputs": [],
   "source": [
    "import numpy as np\n",
    "class AdalineGD(object):\n",
    "    \"\"\"ADAptive Linear NEuron の分類器\n",
    "    \n",
    "    パラメータ\n",
    "    ーーーーーーーーー\n",
    "    eta:float\n",
    "        学習率(0.0より大きく1.0より小さい)\n",
    "    n_iter:int\n",
    "        トレーニングデータのトレーニング回数\n",
    "    random_state:int\n",
    "        重みを初期化するための乱数シード\n",
    "    \n",
    "    \n",
    "    属性\n",
    "    ーーーーーーーーー\n",
    "    w_:1次元配列\n",
    "        適合後の重み\n",
    "    errors：リスト\n",
    "        各エポックでの誤分類(更新)の数\n",
    "        \n",
    "    \"\"\"\n",
    "    def __init__(self,eta=0.01,n_iter=50,random_state=1):\n",
    "        self.eta = eta\n",
    "        self.n_iter = n_iter\n",
    "        self.random_state = random_state\n",
    "        \n",
    "    def fit(self,X,y):\n",
    "        \"\"\"トレーニングデータに適合させる\n",
    "        \n",
    "        パラメータ\n",
    "        ーーーーーーーーー\n",
    "        X:｛配列のようなデータ構造｝,shape=[n_samples,n_features]\n",
    "            トレニンーグデータ\n",
    "            n_samplesはサンプルの個数、shape = [n_samples]\n",
    "        y:配列のようなデータ構造、shape = [n_samples]\n",
    "            目的変数\n",
    "            \n",
    "        戻り値\n",
    "        ーーーーーーーーー\n",
    "        self:object\n",
    "        \n",
    "        \"\"\"\n",
    "        \n",
    "        rgen = np.random.RandomState(self.random_state)\n",
    "        self.w_ = rgen.normal(loc = 0.0,scale = 0.01,size = 1 + X.shape[1])\n",
    "        self.cost_ = []\n",
    "        \n",
    "        for i in range(self.n_iter):  # トレーニング回数文トレーニングデータを反復\n",
    "            net_input = self.net_input(X)\n",
    "            # activationは恒等関数のため何の意味もない、これをシグモイド関数にしてロジスティクス回帰にすることもできる。\n",
    "            output = self.activation(net_input)\n",
    "            # 誤差の計算\n",
    "            errors = (y-output)\n",
    "            #　w1重みの更新\n",
    "            self.w_[1:] += self.eta * X.T.dot(errors)\n",
    "            # w0重みの更新\n",
    "            self.w_[0] += self.eta * errors.sum()\n",
    "            # コスト関数の計算\n",
    "            cost = (errors**2).sum()/2.0\n",
    "            # コストの格納\n",
    "            self.cost_.append(cost)\n",
    "        return self\n",
    "    \n",
    "    \n",
    "    def net_input(self,X):\n",
    "        # 総入力数を計算\n",
    "        return np.dot(X,self.w_[1:])+self.w_[0]\n",
    "    \n",
    "    def activation(self,X):\n",
    "        return X\n",
    "    \n",
    "    def predict(self,X):\n",
    "        # 1ステップ毎のクラスラベルを返す\n",
    "        return np.where(self.activation(self.net_input(X)) >= 0.0,1,-1)"
   ]
  },
  {
   "cell_type": "code",
   "execution_count": 8,
   "metadata": {},
   "outputs": [
    {
     "data": {
      "image/png": "[encoded data removed]",
      "text/plain": [
       "<matplotlib.figure.Figure at 0x2a636dd9668>"
      ]
     },
     "metadata": {
      "needs_background": "light"
     },
     "output_type": "display_data"
    }
   ],
   "source": [
    "fig,ax = plt.subplots(nrows=1,ncols=2,figsize=(10,4))\n",
    "ada1 = AdalineGD(n_iter=10,eta=0.01).fit(X,y)\n",
    "ax[0].plot(range(1,len(ada1.cost_)+1),np.log10(ada1.cost_),marker='o')\n",
    "ax[0].set_xlabel('Epochs')\n",
    "ax[0].set_ylabel('log(Sum-squared-error)')\n",
    "ax[0].set_title('Adaline-Learning rate0.01')\n",
    "ada2 = AdalineGD(n_iter=10,eta=0.0001).fit(X,y)\n",
    "ax[1].plot(range(1,len(ada2.cost_)+1),ada2.cost_,marker='o')\n",
    "ax[1].set_xlabel('Epochs')\n",
    "ax[1].set_ylabel('log(Sum-squared-error)')\n",
    "ax[1].set_title('Adaline-Learning rate0.0001')\n",
    "plt.show()"
   ]
  },
  {
   "cell_type": "markdown",
   "metadata": {},
   "source": [
    "## 特徴量のスケーリングを通じて勾配降下法を改善する\n",
    "**標準化**とは、各特徴量の平均をずらして中心が0になるようにし、各特徴量の標準偏差を1にし、学習を効率的に行う手法。"
   ]
  },
  {
   "cell_type": "code",
   "execution_count": 9,
   "metadata": {},
   "outputs": [],
   "source": [
    "X_std = np.copy(X)\n",
    "X_std[:,0] = (X[:,0]-X[:,0].mean())/X[:,0].std()\n",
    "X_std[:,1] = (X[:,1]-X[:,1].mean())/X[:,1].std()"
   ]
  },
  {
   "cell_type": "code",
   "execution_count": 10,
   "metadata": {},
   "outputs": [
    {
     "data": {
      "image/png": "[encoded data removed]",
      "text/plain": [
       "<matplotlib.figure.Figure at 0x2a636e1f748>"
      ]
     },
     "metadata": {
      "needs_background": "light"
     },
     "output_type": "display_data"
    },
    {
     "data": {
      "image/png": "[encoded data removed]",
      "text/plain": [
       "<matplotlib.figure.Figure at 0x2a636d14f60>"
      ]
     },
     "metadata": {
      "needs_background": "light"
     },
     "output_type": "display_data"
    }
   ],
   "source": [
    "ada = AdalineGD(n_iter=15,eta=0.01)\n",
    "ada.fit(X_std,y)\n",
    "plot_decision_regions(X_std,y,classifier=ada)\n",
    "plt.title('Adaline - Gradient Descent')\n",
    "plt.xlabel('sepal length[standardized]')\n",
    "plt.ylabel('petal length[standardized]')\n",
    "plt.legend(loc='upper left')\n",
    "# 図の表示\n",
    "plt.tight_layout()\n",
    "plt.show()\n",
    "\n",
    "#エポック数とコストの関係を表す折れ線グラフのプロット\n",
    "plt.plot(range(1,len(ada.cost_)+1),ada.cost_,marker='o')\n",
    "plt.xlabel('Epochs')\n",
    "plt.ylabel('Sum-squared-error')\n",
    "plt.tight_layout()\n",
    "plt.show()"
   ]
  },
  {
   "cell_type": "markdown",
   "metadata": {},
   "source": [
    "## 大規模な機械学習と確率的勾配降下法\n",
    "トレーニングデータセットの全体から計算されたコスト勾配とは逆方向に進むことにより、コスト関数を最小化してきた。これを**バッチ勾配降下法(batchgradient descent)**という。1ステップごとにトレーニングデータ全体を計算しているため計算コストが高い。\n",
    "\n",
    "その代わりによく使われるのが**確率的勾配降下法(stochasticgradient descent)**である。確率的勾配降下法はトレーニングデータサンプル毎に段階的に重みを更新する。そのため計算コストが低い。"
   ]
  },
  {
   "cell_type": "code",
   "execution_count": 12,
   "metadata": {},
   "outputs": [
    {
     "data": {
      "text/plain": [
       "'\"\"\\n失敗プログラム\\n\\nfrom numpy.random import seed\\n\\nclass AdalineSGD(object):\\n    \"ADPtive LInear NEuron分類器\\n    \\n    パラメータ\\n    --------------------\\n   eta:float\\n        学習率(0.0より大きく1.0より小さい)\\n    n_iter:int\\n        トレーニングデータのトレーニング回数\\n    random_state:int\\n        重みを初期化するための乱数シード\\n    \\n    \\n    属性\\n    ーーーーーーーーー\\n    w_:1次元配列\\n        適合後の重み\\n    errors：リスト\\n        各エポックでの誤分類(更新)の数\\n        \\n    \"\"\\n    \\n    def __init__(self,eta=0.01,n_iter=10,shuffle=True,random_state=None):\\n        self.eta = eta\\n        self.n_iter = n_iter\\n        self.w_initialized = False\\n        self.shuffle = shuffle\\n        self.random_state = random_state\\n        \\n    def fit(self,X,y):\\n        #\\u3000重みベクトルの生成\\n        self._initialize_weights(X.shape[1])\\n        self.cost_ = []\\n        \\n        #\\u3000トレーニングデータ回数分トレーニングデータを反復\\n        for i in range(self.n_iter):\\n            #\\u3000指定された場合はトレーニングデータをシャッフル\\n            if self.shuffle:\\n                X,y = self._shuffle(X,y)\\n            cost = []\\n            for xi,target in zip(X,y):\\n                cost.append(self._update_weights(xi,target))\\n            # サンプルの平均コストの計算\\n            avg_cost = sum(cost)/len(y)\\n            self.cost_.append(avg_cost)\\n        return self\\n    \\n    def patial_fit(self,X,y):\\n        # 重みを初期化することなくトレーニングデータに適合させる\\n        if not self.w_initialized:\\n            self._initialize_weights(X.shape[1])\\n            # 目的変数yの要素数が2以上の場合は、各サンプルの特徴量xiと目的変数targetで重みを更新\\n            if y.ravel().shape[0]>1:\\n                for xi,target in zip(X,y):\\n                    self._update_weights(xi,target)\\n                    \\n            #目的変数yの要素数が1の場合はサンプル全体の特徴量Xと目的変数yで重みを更新する\\n            else:\\n                self._update_weights(X,y)\\n            return self\\n        \\n    def _shuffle(self,X,y):\\n        r = self.rgen.permutation(len(y))\\n        return X[r],y[r]\\n    \\n    def _initialize_weights(self,m):\\n        # 重みを小さな乱数に初期化\\n        self.rgen = np.random.RandomState(self.random_state)\\n        self.w_ = self.rgen.normal(loc=0.0,scale=0.01,size=1+m)\\n        self.w_initialized = True\\n        \\n    def _update_weights(self,xi,target):\\n        #  ADALINEの学習規則を用いて重みを更新\\n        # 活性化関数の出力の計算\\n        output = self.activation(self.net_input(xi))\\n        \\n        # 誤差の計算\\n        error = (target-output)\\n        \\n        #重みw1の更新\\n        self.w_[1:] += self.eta * xi.dot(error)\\n        self.w_[0:] += self.eta * error\\n        cost = 0.5*error**2\\n        return cost\\n    \\n    def net_input(self,X):\\n        return np.dot(X,self.w_[1:])+self.w_[0]\\n    \\n    def activation(self,X):\\n        return X\\n    \\n    def predict(self,y):\\n        return np.where(self.activation(self.net_input(X))>=0.0,1,-1)\\n        \\n'"
      ]
     },
     "execution_count": 12,
     "metadata": {},
     "output_type": "execute_result"
    }
   ],
   "source": [
    "\"\"\"\"\"\n",
    "失敗プログラム\n",
    "\n",
    "from numpy.random import seed\n",
    "\n",
    "class AdalineSGD(object):\n",
    "    \"ADPtive LInear NEuron分類器\n",
    "    \n",
    "    パラメータ\n",
    "    --------------------\n",
    "   eta:float\n",
    "        学習率(0.0より大きく1.0より小さい)\n",
    "    n_iter:int\n",
    "        トレーニングデータのトレーニング回数\n",
    "    random_state:int\n",
    "        重みを初期化するための乱数シード\n",
    "    \n",
    "    \n",
    "    属性\n",
    "    ーーーーーーーーー\n",
    "    w_:1次元配列\n",
    "        適合後の重み\n",
    "    errors：リスト\n",
    "        各エポックでの誤分類(更新)の数\n",
    "        \n",
    "    \"\"\n",
    "    \n",
    "    def __init__(self,eta=0.01,n_iter=10,shuffle=True,random_state=None):\n",
    "        self.eta = eta\n",
    "        self.n_iter = n_iter\n",
    "        self.w_initialized = False\n",
    "        self.shuffle = shuffle\n",
    "        self.random_state = random_state\n",
    "        \n",
    "    def fit(self,X,y):\n",
    "        #　重みベクトルの生成\n",
    "        self._initialize_weights(X.shape[1])\n",
    "        self.cost_ = []\n",
    "        \n",
    "        #　トレーニングデータ回数分トレーニングデータを反復\n",
    "        for i in range(self.n_iter):\n",
    "            #　指定された場合はトレーニングデータをシャッフル\n",
    "            if self.shuffle:\n",
    "                X,y = self._shuffle(X,y)\n",
    "            cost = []\n",
    "            for xi,target in zip(X,y):\n",
    "                cost.append(self._update_weights(xi,target))\n",
    "            # サンプルの平均コストの計算\n",
    "            avg_cost = sum(cost)/len(y)\n",
    "            self.cost_.append(avg_cost)\n",
    "        return self\n",
    "    \n",
    "    def patial_fit(self,X,y):\n",
    "        # 重みを初期化することなくトレーニングデータに適合させる\n",
    "        if not self.w_initialized:\n",
    "            self._initialize_weights(X.shape[1])\n",
    "            # 目的変数yの要素数が2以上の場合は、各サンプルの特徴量xiと目的変数targetで重みを更新\n",
    "            if y.ravel().shape[0]>1:\n",
    "                for xi,target in zip(X,y):\n",
    "                    self._update_weights(xi,target)\n",
    "                    \n",
    "            #目的変数yの要素数が1の場合はサンプル全体の特徴量Xと目的変数yで重みを更新する\n",
    "            else:\n",
    "                self._update_weights(X,y)\n",
    "            return self\n",
    "        \n",
    "    def _shuffle(self,X,y):\n",
    "        r = self.rgen.permutation(len(y))\n",
    "        return X[r],y[r]\n",
    "    \n",
    "    def _initialize_weights(self,m):\n",
    "        # 重みを小さな乱数に初期化\n",
    "        self.rgen = np.random.RandomState(self.random_state)\n",
    "        self.w_ = self.rgen.normal(loc=0.0,scale=0.01,size=1+m)\n",
    "        self.w_initialized = True\n",
    "        \n",
    "    def _update_weights(self,xi,target):\n",
    "        #  ADALINEの学習規則を用いて重みを更新\n",
    "        # 活性化関数の出力の計算\n",
    "        output = self.activation(self.net_input(xi))\n",
    "        \n",
    "        # 誤差の計算\n",
    "        error = (target-output)\n",
    "        \n",
    "        #重みw1の更新\n",
    "        self.w_[1:] += self.eta * xi.dot(error)\n",
    "        self.w_[0:] += self.eta * error\n",
    "        cost = 0.5*error**2\n",
    "        return cost\n",
    "    \n",
    "    def net_input(self,X):\n",
    "        return np.dot(X,self.w_[1:])+self.w_[0]\n",
    "    \n",
    "    def activation(self,X):\n",
    "        return X\n",
    "    \n",
    "    def predict(self,y):\n",
    "        return np.where(self.activation(self.net_input(X))>=0.0,1,-1)\n",
    "        \n",
    "\"\"\""
   ]
  },
  {
   "cell_type": "code",
   "execution_count": 16,
   "metadata": {},
   "outputs": [
    {
     "name": "stdout",
     "output_type": "stream",
     "text": [
      "(100, 2)\n"
     ]
    },
    {
     "data": {
      "image/png": "[encoded data removed]",
      "text/plain": [
       "<matplotlib.figure.Figure at 0x2a636faef98>"
      ]
     },
     "metadata": {
      "needs_background": "light"
     },
     "output_type": "display_data"
    },
    {
     "data": {
      "image/png": "[encoded data removed]",
      "text/plain": [
       "<matplotlib.figure.Figure at 0x2a636efcc50>"
      ]
     },
     "metadata": {
      "needs_background": "light"
     },
     "output_type": "display_data"
    }
   ],
   "source": [
    "ada = AdalineSGD(n_iter=15,eta=0.01,random_state=1)\n",
    "ada.fit(X_std,y)\n",
    "print(X_std.shape)\n",
    "plot_decision_regions(X_std,y,classifier=ada)\n",
    "plt.title('Adaline - Gradient Descent')\n",
    "plt.xlabel('sepal length[standardized]')\n",
    "plt.ylabel('petal length[standardized]')\n",
    "plt.legend(loc='upper left')\n",
    "# 図の表示\n",
    "plt.tight_layout()\n",
    "plt.show()\n",
    "\n",
    "#エポック数とコストの関係を表す折れ線グラフのプロット\n",
    "plt.plot(range(1,len(ada.cost_)+1),ada.cost_,marker='o')\n",
    "plt.xlabel('Epochs')\n",
    "plt.ylabel('Sum-squared-error')\n",
    "plt.tight_layout()\n",
    "plt.show()"
   ]
  },
  {
   "cell_type": "code",
   "execution_count": 14,
   "metadata": {},
   "outputs": [],
   "source": [
    "from numpy.random import seed\n",
    "\n",
    "class AdalineSGD(object):\n",
    "    def __init__(self,eta=0.01,n_iter=10,shuffle=True,random_state=None):\n",
    "        self.eta = eta\n",
    "        self.n_iter = n_iter\n",
    "        self.w_initialized = False\n",
    "        self.shuffle = shuffle\n",
    "        self.random_state = random_state\n",
    "        \n",
    "    def fit(self,X,y):\n",
    "        self._initialize_weights(X.shape[1])\n",
    "        self.cost_ = []\n",
    "        \n",
    "        for i in range(self.n_iter):\n",
    "            if self.shuffle:\n",
    "                X,y = self._shuffle(X,y)\n",
    "            cost = []\n",
    "            for xi,target in zip(X,y):\n",
    "                cost.append(self._update_weights(xi,target))\n",
    "            avg_cost = sum(cost)/len(y)\n",
    "            self.cost_.append(avg_cost)\n",
    "        return self\n",
    "        \n",
    "    def partial_fit(self,X,y):\n",
    "        if not self.w_initialized:\n",
    "            self._initialize_weights(X.shape[1])\n",
    "        if y.ravel().shape[0] >1:\n",
    "            for xi,target in zip(X,y):\n",
    "                self._update_weights(xi,target)\n",
    "        else:\n",
    "            self._update_weights(X,y)\n",
    "        return self\n",
    "        \n",
    "    def _shuffle(self,X,y):\n",
    "        r = self.rgen.permutation(len(y))\n",
    "        return X[r],y[r]\n",
    "        \n",
    "    def _initialize_weights(self,m):\n",
    "        # 重みを小さな乱数に初期化\n",
    "        self.rgen = np.random.RandomState(self.random_state)\n",
    "        self.w_ = self.rgen.normal(loc=0.0,scale=0.01,size=1+m)\n",
    "        self.w_initialized = True\n",
    "            \n",
    "    def _update_weights(self,xi,target):\n",
    "        output = self.activation(self.net_input(xi))\n",
    "        error = (target - output)\n",
    "        self.w_[1:] += self.eta * xi.dot(error)\n",
    "        self.w_[0] += self.eta * error\n",
    "        cost = 0.5 * error **2\n",
    "        return cost\n",
    "        \n",
    "    def net_input(self,X):\n",
    "        return np.dot(X,self.w_[1:]) + self.w_[0]\n",
    "        \n",
    "    def activation(self,X):\n",
    "        return X\n",
    "        \n",
    "    def predict(self,X):\n",
    "        return np.where(self.activation(self.net_input(X))>=0.0,1,-1)"
   ]
  },
  {
   "cell_type": "markdown",
   "metadata": {},
   "source": [
    "# 応用偏"
   ]
  },
  {
   "cell_type": "code",
   "execution_count": 29,
   "metadata": {},
   "outputs": [
    {
     "name": "stdout",
     "output_type": "stream",
     "text": [
      "       0    1    2    3               4\n",
      "145  6.7  3.0  5.2  2.3  Iris-virginica\n",
      "146  6.3  2.5  5.0  1.9  Iris-virginica\n",
      "147  6.5  3.0  5.2  2.0  Iris-virginica\n",
      "148  6.2  3.4  5.4  2.3  Iris-virginica\n",
      "149  5.9  3.0  5.1  1.8  Iris-virginica\n",
      "[[7.  4.7]\n",
      " [6.4 4.5]\n",
      " [6.9 4.9]\n",
      " [5.5 4. ]\n",
      " [6.5 4.6]\n",
      " [5.7 4.5]\n",
      " [6.3 4.7]\n",
      " [4.9 3.3]\n",
      " [6.6 4.6]\n",
      " [5.2 3.9]\n",
      " [5.  3.5]\n",
      " [5.9 4.2]\n",
      " [6.  4. ]\n",
      " [6.1 4.7]\n",
      " [5.6 3.6]\n",
      " [6.7 4.4]\n",
      " [5.6 4.5]\n",
      " [5.8 4.1]\n",
      " [6.2 4.5]\n",
      " [5.6 3.9]\n",
      " [5.9 4.8]\n",
      " [6.1 4. ]\n",
      " [6.3 4.9]\n",
      " [6.1 4.7]\n",
      " [6.4 4.3]\n",
      " [6.6 4.4]\n",
      " [6.8 4.8]\n",
      " [6.7 5. ]\n",
      " [6.  4.5]\n",
      " [5.7 3.5]\n",
      " [5.5 3.8]\n",
      " [5.5 3.7]\n",
      " [5.8 3.9]\n",
      " [6.  5.1]\n",
      " [5.4 4.5]\n",
      " [6.  4.5]\n",
      " [6.7 4.7]\n",
      " [6.3 4.4]\n",
      " [5.6 4.1]\n",
      " [5.5 4. ]\n",
      " [5.5 4.4]\n",
      " [6.1 4.6]\n",
      " [5.8 4. ]\n",
      " [5.  3.3]\n",
      " [5.6 4.2]\n",
      " [5.7 4.2]\n",
      " [5.7 4.2]\n",
      " [6.2 4.3]\n",
      " [5.1 3. ]\n",
      " [5.7 4.1]\n",
      " [6.3 6. ]\n",
      " [5.8 5.1]\n",
      " [7.1 5.9]\n",
      " [6.3 5.6]\n",
      " [6.5 5.8]\n",
      " [7.6 6.6]\n",
      " [4.9 4.5]\n",
      " [7.3 6.3]\n",
      " [6.7 5.8]\n",
      " [7.2 6.1]\n",
      " [6.5 5.1]\n",
      " [6.4 5.3]\n",
      " [6.8 5.5]\n",
      " [5.7 5. ]\n",
      " [5.8 5.1]\n",
      " [6.4 5.3]\n",
      " [6.5 5.5]\n",
      " [7.7 6.7]\n",
      " [7.7 6.9]\n",
      " [6.  5. ]\n",
      " [6.9 5.7]\n",
      " [5.6 4.9]\n",
      " [7.7 6.7]\n",
      " [6.3 4.9]\n",
      " [6.7 5.7]\n",
      " [7.2 6. ]\n",
      " [6.2 4.8]\n",
      " [6.1 4.9]\n",
      " [6.4 5.6]\n",
      " [7.2 5.8]\n",
      " [7.4 6.1]\n",
      " [7.9 6.4]\n",
      " [6.4 5.6]\n",
      " [6.3 5.1]\n",
      " [6.1 5.6]\n",
      " [7.7 6.1]\n",
      " [6.3 5.6]\n",
      " [6.4 5.5]\n",
      " [6.  4.8]\n",
      " [6.9 5.4]\n",
      " [6.7 5.6]\n",
      " [6.9 5.1]\n",
      " [5.8 5.1]\n",
      " [6.8 5.9]\n",
      " [6.7 5.7]\n",
      " [6.7 5.2]\n",
      " [6.3 5. ]\n",
      " [6.5 5.2]\n",
      " [6.2 5.4]\n",
      " [5.9 5.1]] [['Iris-versicolor']\n",
      " ['Iris-versicolor']\n",
      " ['Iris-versicolor']\n",
      " ['Iris-versicolor']\n",
      " ['Iris-versicolor']\n",
      " ['Iris-versicolor']\n",
      " ['Iris-versicolor']\n",
      " ['Iris-versicolor']\n",
      " ['Iris-versicolor']\n",
      " ['Iris-versicolor']\n",
      " ['Iris-versicolor']\n",
      " ['Iris-versicolor']\n",
      " ['Iris-versicolor']\n",
      " ['Iris-versicolor']\n",
      " ['Iris-versicolor']\n",
      " ['Iris-versicolor']\n",
      " ['Iris-versicolor']\n",
      " ['Iris-versicolor']\n",
      " ['Iris-versicolor']\n",
      " ['Iris-versicolor']\n",
      " ['Iris-versicolor']\n",
      " ['Iris-versicolor']\n",
      " ['Iris-versicolor']\n",
      " ['Iris-versicolor']\n",
      " ['Iris-versicolor']\n",
      " ['Iris-versicolor']\n",
      " ['Iris-versicolor']\n",
      " ['Iris-versicolor']\n",
      " ['Iris-versicolor']\n",
      " ['Iris-versicolor']\n",
      " ['Iris-versicolor']\n",
      " ['Iris-versicolor']\n",
      " ['Iris-versicolor']\n",
      " ['Iris-versicolor']\n",
      " ['Iris-versicolor']\n",
      " ['Iris-versicolor']\n",
      " ['Iris-versicolor']\n",
      " ['Iris-versicolor']\n",
      " ['Iris-versicolor']\n",
      " ['Iris-versicolor']\n",
      " ['Iris-versicolor']\n",
      " ['Iris-versicolor']\n",
      " ['Iris-versicolor']\n",
      " ['Iris-versicolor']\n",
      " ['Iris-versicolor']\n",
      " ['Iris-versicolor']\n",
      " ['Iris-versicolor']\n",
      " ['Iris-versicolor']\n",
      " ['Iris-versicolor']\n",
      " ['Iris-versicolor']\n",
      " ['Iris-virginica']\n",
      " ['Iris-virginica']\n",
      " ['Iris-virginica']\n",
      " ['Iris-virginica']\n",
      " ['Iris-virginica']\n",
      " ['Iris-virginica']\n",
      " ['Iris-virginica']\n",
      " ['Iris-virginica']\n",
      " ['Iris-virginica']\n",
      " ['Iris-virginica']\n",
      " ['Iris-virginica']\n",
      " ['Iris-virginica']\n",
      " ['Iris-virginica']\n",
      " ['Iris-virginica']\n",
      " ['Iris-virginica']\n",
      " ['Iris-virginica']\n",
      " ['Iris-virginica']\n",
      " ['Iris-virginica']\n",
      " ['Iris-virginica']\n",
      " ['Iris-virginica']\n",
      " ['Iris-virginica']\n",
      " ['Iris-virginica']\n",
      " ['Iris-virginica']\n",
      " ['Iris-virginica']\n",
      " ['Iris-virginica']\n",
      " ['Iris-virginica']\n",
      " ['Iris-virginica']\n",
      " ['Iris-virginica']\n",
      " ['Iris-virginica']\n",
      " ['Iris-virginica']\n",
      " ['Iris-virginica']\n",
      " ['Iris-virginica']\n",
      " ['Iris-virginica']\n",
      " ['Iris-virginica']\n",
      " ['Iris-virginica']\n",
      " ['Iris-virginica']\n",
      " ['Iris-virginica']\n",
      " ['Iris-virginica']\n",
      " ['Iris-virginica']\n",
      " ['Iris-virginica']\n",
      " ['Iris-virginica']\n",
      " ['Iris-virginica']\n",
      " ['Iris-virginica']\n",
      " ['Iris-virginica']\n",
      " ['Iris-virginica']\n",
      " ['Iris-virginica']\n",
      " ['Iris-virginica']\n",
      " ['Iris-virginica']\n",
      " ['Iris-virginica']\n",
      " ['Iris-virginica']]\n"
     ]
    }
   ],
   "source": [
    "print(df.tail())\n",
    "X2 = df.iloc[50:,[0,2]].values\n",
    "y2 = df.iloc[50:,[4]].values"
   ]
  },
  {
   "cell_type": "code",
   "execution_count": 30,
   "metadata": {},
   "outputs": [],
   "source": [
    "X2_std = np.copy(X2)\n",
    "X2_std[:,0] = (X2[:,0]-X2[:,0].mean())/X2[:,0].std()\n",
    "X2_std[:,1] = (X2[:,1]-X2[:,1].mean())/X2[:,1].std()"
   ]
  },
  {
   "cell_type": "code",
   "execution_count": 36,
   "metadata": {},
   "outputs": [
    {
     "name": "stdout",
     "output_type": "stream",
     "text": [
      "(100, 2)\n"
     ]
    },
    {
     "data": {
      "image/png": "[encoded data removed]",
      "text/plain": [
       "<matplotlib.figure.Figure at 0x2a638f34278>"
      ]
     },
     "metadata": {
      "needs_background": "light"
     },
     "output_type": "display_data"
    },
    {
     "data": {
      "image/png": "[encoded data removed]",
      "text/plain": [
       "<matplotlib.figure.Figure at 0x2a638f136a0>"
      ]
     },
     "metadata": {
      "needs_background": "light"
     },
     "output_type": "display_data"
    }
   ],
   "source": [
    "ada = AdalineSGD(n_iter=15,eta=0.01,random_state=1)\n",
    "ada.fit(X2_std,y)\n",
    "print(X2_std.shape)\n",
    "plot_decision_regions(X2_std,y,classifier=ada)\n",
    "plt.title('Adaline - Gradient Descent')\n",
    "plt.xlabel('sepal length[standardized]')\n",
    "plt.ylabel('petal length[standardized]')\n",
    "plt.legend(loc='upper left')\n",
    "# 図の表示\n",
    "plt.tight_layout()\n",
    "plt.show()\n",
    "\n",
    "#エポック数とコストの関係を表す折れ線グラフのプロット\n",
    "plt.plot(range(1,len(ada.cost_)+1),ada.cost_,marker='o')\n",
    "plt.xlabel('Epochs')\n",
    "plt.ylabel('Sum-squared-error')\n",
    "plt.tight_layout()\n",
    "plt.show()"
   ]
  },
  {
   "cell_type": "code",
   "execution_count": null,
   "metadata": {},
   "outputs": [],
   "source": []
  }
 ],
 "metadata": {
  "kernelspec": {
   "display_name": "Python 3",
   "language": "python",
   "name": "python3"
  },
  "language_info": {
   "codemirror_mode": {
    "name": "ipython",
    "version": 3
   },
   "file_extension": ".py",
   "mimetype": "text/x-python",
   "name": "python",
   "nbconvert_exporter": "python",
   "pygments_lexer": "ipython3",
   "version": "3.6.4"
  }
 },
 "nbformat": 4,
 "nbformat_minor": 2
}
