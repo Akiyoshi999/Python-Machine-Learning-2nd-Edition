{
 "cells": [
  {
   "cell_type": "markdown",
   "metadata": {},
   "source": [
    "## 次元削減でデータを圧縮する\n",
    "特徴選択に代わる次元削減のもう1つの方法は**特徴抽出(feature extraction)**である。\n",
    "この章では、以下の3つの特徴選択の方法について取り上げる\n",
    "\n",
    "- 教師なしデータ圧縮での**主成分分析(PCA)**\n",
    "- クラスの分離を最大化する教師あり次元削減法としての**線形判別分析(LDA)**\n",
    "- **カーネル主成分分析(KPCA)**による非線形次元削減"
   ]
  },
  {
   "cell_type": "markdown",
   "metadata": {},
   "source": [
    "## 5.1 主成分分析による教師なし次元削減\n",
    "**主成分分析(principal Component Analysis:PCA)**はよく特徴抽出と次元削減に使用されている。\n",
    "\n",
    "PCAは特徴量どうしの相関関係に基づいてデータからパターンを抽出するのに役に立つ。"
   ]
  },
  {
   "cell_type": "markdown",
   "metadata": {},
   "source": [
    "## 5.1 主成分を抽出する\n",
    "PCAの最初の4つの手順に取り組む\n",
    "1. データを標準化する\n",
    "1. 共分散行列を作成する\n",
    "1. 共分散行列の固有値と固有ベクトルを取得する\n",
    "1. 固有値を降順でソートすることで、固有ベクトルをランク付けする"
   ]
  },
  {
   "cell_type": "code",
   "execution_count": 1,
   "metadata": {},
   "outputs": [],
   "source": [
    "import pandas as pd\n",
    "df_wine = pd.read_csv(\n",
    "'https://archive.ics.uci.edu/ml/machine-learning-databases/wine/wine.data',header=None)"
   ]
  },
  {
   "cell_type": "code",
   "execution_count": 2,
   "metadata": {},
   "outputs": [],
   "source": [
    "from sklearn.cross_validation import train_test_split\n",
    "from sklearn.preprocessing import StandardScaler\n",
    "\n",
    "# 2列目以降のデータをXに、1列目のデータをyに変換\n",
    "X,y = df_wine.iloc[:,1:].values,df_wine.iloc[:,0].values\n",
    "X_train,X_test,y_train,y_test = train_test_split(X,y,test_size=0.3,\n",
    "                                                stratify=y,random_state=0)"
   ]
  },
  {
   "cell_type": "code",
   "execution_count": null,
   "metadata": {},
   "outputs": [],
   "source": []
  }
 ],
 "metadata": {
  "kernelspec": {
   "display_name": "Python 3",
   "language": "python",
   "name": "python3"
  },
  "language_info": {
   "codemirror_mode": {
    "name": "ipython",
    "version": 3
   },
   "file_extension": ".py",
   "mimetype": "text/x-python",
   "name": "python",
   "nbconvert_exporter": "python",
   "pygments_lexer": "ipython3",
   "version": "3.6.4"
  }
 },
 "nbformat": 4,
 "nbformat_minor": 2
}
