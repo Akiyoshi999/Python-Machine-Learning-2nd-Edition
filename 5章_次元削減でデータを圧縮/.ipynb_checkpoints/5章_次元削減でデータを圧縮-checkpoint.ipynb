{
 "cells": [
  {
   "cell_type": "markdown",
   "metadata": {},
   "source": [
    "## 次元削減でデータを圧縮する\n",
    "特徴選択に代わる次元削減のもう1つの方法は**特徴抽出(feature extraction)**である。\n",
    "この章では、以下の3つの特徴選択の方法について取り上げる\n",
    "\n",
    "- 教師なしデータ圧縮での**主成分分析(PCA)**\n",
    "- クラスの分離を最大化する教師あり次元削減法としての**線形判別分析(LDA)**\n",
    "- **カーネル主成分分析(KPCA)**による非線形次元削減"
   ]
  },
  {
   "cell_type": "markdown",
   "metadata": {},
   "source": [
    "## 5.1 主成分分析による教師なし次元削減\n",
    "**主成分分析(principal Component Analysis:PCA)**はよく特徴抽出と次元削減に使用されている。\n",
    "\n",
    "PCAは特徴量どうしの相関関係に基づいてデータからパターンを抽出するのに役に立つ。"
   ]
  },
  {
   "cell_type": "markdown",
   "metadata": {},
   "source": [
    "## 5.1 主成分を抽出する\n",
    "PCAの最初の4つの手順に取り組む\n",
    "1. データを標準化する\n",
    "1. 共分散行列を作成する\n",
    "1. 共分散行列の固有値と固有ベクトルを取得する\n",
    "1. 固有値を降順でソートすることで、固有ベクトルをランク付けする"
   ]
  },
  {
   "cell_type": "code",
   "execution_count": 1,
   "metadata": {},
   "outputs": [],
   "source": [
    "import pandas as pd\n",
    "df_wine = pd.read_csv(\n",
    "'https://archive.ics.uci.edu/ml/machine-learning-databases/wine/wine.data',header=None)"
   ]
  },
  {
   "cell_type": "code",
   "execution_count": 2,
   "metadata": {},
   "outputs": [
    {
     "name": "stderr",
     "output_type": "stream",
     "text": [
      "C:\\Users\\zundo\\Anaconda3\\lib\\site-packages\\sklearn\\cross_validation.py:41: DeprecationWarning: This module was deprecated in version 0.18 in favor of the model_selection module into which all the refactored classes and functions are moved. Also note that the interface of the new CV iterators are different from that of this module. This module will be removed in 0.20.\n",
      "  \"This module will be removed in 0.20.\", DeprecationWarning)\n"
     ]
    }
   ],
   "source": [
    "from sklearn.cross_validation import train_test_split\n",
    "from sklearn.preprocessing import StandardScaler\n",
    "\n",
    "# 2列目以降のデータをXに、1列目のデータをyに変換\n",
    "X,y = df_wine.iloc[:,1:].values,df_wine.iloc[:,0].values\n",
    "X_train,X_test,y_train,y_test = train_test_split(X,y,test_size=0.3,\n",
    "                                                stratify=y,random_state=0)\n",
    "\n",
    "# 平均と標準偏差を用いて標準化\n",
    "sc = StandardScaler()\n",
    "X_train_std = sc.fit_transform(X_train)\n",
    "X_test_std = sc.transform(X_test)"
   ]
  },
  {
   "cell_type": "code",
   "execution_count": 3,
   "metadata": {},
   "outputs": [
    {
     "name": "stdout",
     "output_type": "stream",
     "text": [
      "\n",
      "Eigenvalues \n",
      "[4.84274532 2.41602459 1.54845825 0.96120438 0.84166161 0.6620634\n",
      " 0.51828472 0.34650377 0.3131368  0.10754642 0.21357215 0.15362835\n",
      " 0.1808613 ]\n"
     ]
    }
   ],
   "source": [
    "import numpy as np\n",
    "\n",
    "# 共分散行列を作成\n",
    "cov_mat = np.cov(X_train_std.T)\n",
    "# 固有値と固有ベクトルを計算\n",
    "eigen_vals,eigen_vecs = np.linalg.eig(cov_mat)\n",
    "print('\\nEigenvalues \\n%s' % eigen_vals)"
   ]
  },
  {
   "cell_type": "code",
   "execution_count": 4,
   "metadata": {},
   "outputs": [
    {
     "data": {
      "text/plain": [
       "<matplotlib.figure.Figure at 0x21e8d025c50>"
      ]
     },
     "metadata": {},
     "output_type": "display_data"
    }
   ],
   "source": [
    "# 固有値の合計\n",
    "tot = sum(eigen_vals)\n",
    "# 分散説明率を計算\n",
    "var_exp = [(i / tot) for i in sorted(eigen_vals,reverse=True)]\n",
    "# 分散説明率の累計和を取得\n",
    "cum_var_exp = np.cumsum(var_exp)\n",
    "\n",
    "import matplotlib.pyplot as plt\n",
    "# 分散説明率の棒グラフを作成\n",
    "plt.bar(range(1,14),var_exp,alpha=0.5,align='center',\n",
    "       label='individual expained variance')\n",
    "# 分散説明率の累計和の階段グラフを作成\n",
    "plt.step(range(1,14),cum_var_exp,where='mid',label='cumlative explained variance')\n",
    "plt.ylabel('Explained variance ratic')\n",
    "plt.xlabel('Principal component index')\n",
    "plt.legend(loc='best')\n",
    "plt.tight_layout()\n",
    "plt.show()"
   ]
  },
  {
   "cell_type": "markdown",
   "metadata": {},
   "source": [
    "PCAは、クラスラベルに関する情報は使用していない。またPCAで計算される分散は**特徴軸に沿った値の散らばり**を測定する。"
   ]
  },
  {
   "cell_type": "markdown",
   "metadata": {},
   "source": [
    "## 5.1 特徴変換\n",
    "PCAの残りの3つの手順を行う。\n",
    "- 最も大きいk個の固有値に対するk個の固有ベクトルを選択する。この場合のkは新しい特徴部分空間の次元数を表す(k≤d)\n",
    "- 上位k個の固有ベクトルから射影行列Wを作成する\n",
    "- 射影行列Wを使用し、d次元の入力データセットXを変換し、新しいk次元の特徴部分空間を選択する"
   ]
  },
  {
   "cell_type": "code",
   "execution_count": 5,
   "metadata": {},
   "outputs": [],
   "source": [
    "# (固有値、固有ベクトル）のタプルのリストを作成する\n",
    "eigen_pairs = [(np.abs(eigen_vals[i]),eigen_vecs[:,i])\n",
    "              for i in range(len(eigen_vals))]\n",
    "\n",
    "# (固有値、固有ベクトル)のタプルを大きいものから順に並び変え\n",
    "eigen_pairs.sort(key=lambda k: k[0],reverse=True)"
   ]
  },
  {
   "cell_type": "code",
   "execution_count": 6,
   "metadata": {},
   "outputs": [
    {
     "name": "stdout",
     "output_type": "stream",
     "text": [
      "Marrix W\n",
      " [[-0.13724218  0.50303478]\n",
      " [ 0.24724326  0.16487119]\n",
      " [-0.02545159  0.24456476]\n",
      " [ 0.20694508 -0.11352904]\n",
      " [-0.15436582  0.28974518]\n",
      " [-0.39376952  0.05080104]\n",
      " [-0.41735106 -0.02287338]\n",
      " [ 0.30572896  0.09048885]\n",
      " [-0.30668347  0.00835233]\n",
      " [ 0.07554066  0.54977581]\n",
      " [-0.32613263 -0.20716433]\n",
      " [-0.36861022 -0.24902536]\n",
      " [-0.29669651  0.38022942]]\n"
     ]
    }
   ],
   "source": [
    "w = np.hstack((eigen_pairs[0][1][:,np.newaxis],eigen_pairs[1][1][:,np.newaxis]))\n",
    "print('Marrix W\\n',w)"
   ]
  },
  {
   "cell_type": "code",
   "execution_count": 7,
   "metadata": {},
   "outputs": [
    {
     "data": {
      "text/plain": [
       "array([2.38299011, 0.45458499])"
      ]
     },
     "execution_count": 7,
     "metadata": {},
     "output_type": "execute_result"
    }
   ],
   "source": [
    "X_train_std[0].dot(w)"
   ]
  },
  {
   "cell_type": "code",
   "execution_count": 8,
   "metadata": {},
   "outputs": [],
   "source": [
    "X_train_pca = X_train_std.dot(w)"
   ]
  },
  {
   "cell_type": "code",
   "execution_count": 9,
   "metadata": {},
   "outputs": [
    {
     "data": {
      "image/png": "[encoded data removed]",
      "text/plain": [
       "<matplotlib.figure.Figure at 0x21e8f2c1128>"
      ]
     },
     "metadata": {
      "needs_background": "light"
     },
     "output_type": "display_data"
    }
   ],
   "source": [
    "colors = ['r','b','g']\n",
    "markers = ['s','x','o']\n",
    "\n",
    "# 「クラスラベル」「点の色」「点の種類」の組み合わせからなるリストを生成してプロット\n",
    "for l,c,m in zip(np.unique(y_train),colors,markers):\n",
    "    plt.scatter(X_train_pca[y_train==l,0],X_train_pca[y_train==l,1],\n",
    "               c=c,label=l,marker=m)\n",
    "plt.xlabel('PC1')\n",
    "plt.ylabel('PC2')\n",
    "plt.legend(loc='best')\n",
    "plt.tight_layout()\n",
    "plt.show()"
   ]
  },
  {
   "cell_type": "markdown",
   "metadata": {},
   "source": [
    "説明分散の通りPC1のほうがX軸沿いに広がっている。この散布図ではクラスラベルを使用したが、PCAがクラスラベルの情報を使用しない教師なしデータ圧縮法であることに注意しなければならない。"
   ]
  },
  {
   "cell_type": "markdown",
   "metadata": {},
   "source": [
    "## 5.1 scikit-learnの主成分分析"
   ]
  },
  {
   "cell_type": "code",
   "execution_count": 10,
   "metadata": {},
   "outputs": [],
   "source": [
    "from matplotlib.colors import ListedColormap\n",
    "\n",
    "def plot_decision_regions(X,y,classifiier,resolution=0.02):\n",
    "    # マーカーとカラーマップの準備\n",
    "    markers = ('s','x','o','^','v')\n",
    "    colors = ('red','blue','lightgreen','gray','cyan')\n",
    "    cmap = ListedColormap(colors[:len(np.unique(y))])\n",
    "    \n",
    "    # 決定領域のプロット\n",
    "    x1_min,x1_max = X[:,0].min()-1,X[:,0].max()+1\n",
    "    x2_min,x2_max = X[:,1].min()-1,X[:,1].max()+1\n",
    "    xx1,xx2 = np.meshgrid(np.arange(x1_min,x1_max,resolution),\n",
    "                         np.arange(x2_min,x2_max,resolution))\n",
    "    # 各特徴量を1次元配列に変換して予測を実行\n",
    "    Z = classifiier.predict(np.array([xx1.ravel(),xx2.ravel()]).T)\n",
    "    # 予測結果を元のグリッドポイントのデータサイズに変換\n",
    "    Z = Z.reshape(xx1.shape)\n",
    "    # グリッドポイントの等高線のプロット\n",
    "    plt.contourf(xx1,xx2,Z,alpha=0.4,cmap=cmap)\n",
    "    # 軸の範囲の設定\n",
    "    plt.xlim(xx1.min(),xx1.max())\n",
    "    plt.ylim(xx2.min(),xx2.max())\n",
    "    \n",
    "    # クラス毎にサンプルをプロット\n",
    "    for idx,cl in enumerate(np.unique(y)):\n",
    "        plt.scatter(x=X[y==cl,0],\n",
    "                   y=X[y==cl,1],\n",
    "                   alpha=0.6,\n",
    "                   c=cmap(idx),\n",
    "                   edgecolor='black',\n",
    "                   marker=markers[idx],\n",
    "                   label=cl)"
   ]
  },
  {
   "cell_type": "code",
   "execution_count": 11,
   "metadata": {},
   "outputs": [
    {
     "data": {
      "image/png": "[encoded data removed]",
      "text/plain": [
       "<matplotlib.figure.Figure at 0x21e8e12e400>"
      ]
     },
     "metadata": {
      "needs_background": "light"
     },
     "output_type": "display_data"
    }
   ],
   "source": [
    "from sklearn.linear_model import LogisticRegression\n",
    "from sklearn.decomposition import PCA\n",
    "\n",
    "# 主成分数を指定して、PCAのインスタンスを生成\n",
    "pca = PCA(n_components=2)\n",
    "# ロジスティクス回帰のインスタンスを生成\n",
    "lr = LogisticRegression()\n",
    "# トレーニングデータとテストデータでPCAを実行\n",
    "X_train_pca = pca.fit_transform(X_train_std)\n",
    "X_test_pca = pca.transform(X_test_std)\n",
    "\n",
    "# トレニンーグデータでロジスティクス回帰を実行\n",
    "lr.fit(X_train_pca,y_train)\n",
    "\n",
    "# 決定境界をプロット\n",
    "plot_decision_regions(X_train_pca,y_train,classifiier=lr)\n",
    "plt.xlabel('PC1')\n",
    "plt.ylabel('PC2')\n",
    "plt.legend(loc='best')\n",
    "plt.tight_layout()\n",
    "plt.show()"
   ]
  },
  {
   "cell_type": "code",
   "execution_count": 12,
   "metadata": {},
   "outputs": [
    {
     "data": {
      "image/png": "[encoded data removed]",
      "text/plain": [
       "<matplotlib.figure.Figure at 0x21e8e19c470>"
      ]
     },
     "metadata": {
      "needs_background": "light"
     },
     "output_type": "display_data"
    }
   ],
   "source": [
    "plot_decision_regions(X_test_pca,y_test,classifiier=lr)\n",
    "plt.xlabel('PC1')\n",
    "plt.ylabel('PC2')\n",
    "plt.legend(loc='best')\n",
    "plt.tight_layout()\n",
    "plt.show()"
   ]
  },
  {
   "cell_type": "code",
   "execution_count": 13,
   "metadata": {},
   "outputs": [
    {
     "data": {
      "image/png": "[encoded data removed]",
      "text/plain": [
       "<matplotlib.figure.Figure at 0x21e8e084320>"
      ]
     },
     "metadata": {
      "needs_background": "light"
     },
     "output_type": "display_data"
    }
   ],
   "source": [
    "X_train_std1,X_test_std1 = X_train_std * -1,X_test_std*-1\n",
    "# トレーニングデータとテストデータでPCAを実行\n",
    "X_train_pca = pca.fit_transform(X_train_std1)\n",
    "X_test_pca = pca.transform(X_test_std1)\n",
    "\n",
    "# トレニンーグデータでロジスティクス回帰を実行\n",
    "lr.fit(X_train_pca,y_train)\n",
    "\n",
    "# 決定境界をプロット\n",
    "plot_decision_regions(X_train_pca,y_train,classifiier=lr)\n",
    "plt.xlabel('PC1')\n",
    "plt.ylabel('PC2')\n",
    "plt.legend(loc='best')\n",
    "plt.tight_layout()\n",
    "plt.show()"
   ]
  },
  {
   "cell_type": "code",
   "execution_count": 14,
   "metadata": {},
   "outputs": [
    {
     "data": {
      "text/plain": [
       "array([0.36951469, 0.18434927, 0.11815159, 0.07334252, 0.06422108,\n",
       "       0.05051724, 0.03954654, 0.02643918, 0.02389319, 0.01629614,\n",
       "       0.01380021, 0.01172226, 0.00820609])"
      ]
     },
     "execution_count": 14,
     "metadata": {},
     "output_type": "execute_result"
    }
   ],
   "source": [
    "pca = PCA(n_components=None)\n",
    "X_train_pca = pca.fit_transform(X_train_std)\n",
    "# 分散説明率を計算\n",
    "pca.explained_variance_ratio_"
   ]
  },
  {
   "cell_type": "markdown",
   "metadata": {},
   "source": [
    "## 5.2 線形判別分析による教師ありデータ圧縮\n",
    "**線形判別分析(Linear Discriminant Analysis:LDA)**は計算効率を高め、正規化されていいないモデルの「次元の呪い」による過学習を抑制するために使用できる。\n",
    "\n",
    "LDAはクラスの分離を最適化する特徴部分空間を見つけ出そうとする。LDAを実行するために必要な手順は以下の通りである。\n",
    "1. d次元のデータセットを標準化する(dは特徴量の個数)\n",
    "1. クラスごとにd次元の平均ベクトル(各次元の平均値で構成されるベクトル)を計算する\n",
    "1. 平均ベクトルを使ってクラス間変動行列$S_B$とクラス内変動行列$S_W$を生成する\n",
    "1. 行列$S^{-1}_W S_B$の固有ベクトルと対応する固有値を計算する\n",
    "1. 固有値を降順でソートすることで、対応する固有ベクトルをランク付けする\n",
    "1. d*k次元の変換行列Wを生成するために、最も大きいk個の固有値に対応するk個の固有ベクトルを選択する(固有ベクトルから変換行列Wを生成)。固有ベクトルは、この行列の列である\n",
    "1. 変換行列Wを使ってサンプルを新しい特徴部分空間へ射影する。"
   ]
  },
  {
   "cell_type": "code",
   "execution_count": 15,
   "metadata": {},
   "outputs": [
    {
     "name": "stdout",
     "output_type": "stream",
     "text": [
      "NV 1:[ 0.9066 -0.3497  0.3201 -0.7189  0.5056  0.8807  0.9589 -0.5516  0.5416\n",
      "  0.2338  0.5897  0.6563  1.2075]\n",
      "\n",
      "NV 2:[-0.8749 -0.2848 -0.3735  0.3157 -0.3848 -0.0433  0.0635 -0.0946  0.0703\n",
      " -0.8286  0.3144  0.3608 -0.7253]\n",
      "\n",
      "NV 3:[ 0.1992  0.866   0.1682  0.4148 -0.0451 -1.0286 -1.2876  0.8287 -0.7795\n",
      "  0.9649 -1.209  -1.3622 -0.4013]\n",
      "\n"
     ]
    }
   ],
   "source": [
    "np.set_printoptions(precision=4)\n",
    "mean_vecs = []\n",
    "for label in range(1,4):\n",
    "    mean_vecs.append(np.mean(X_train_std[y_train==label],axis=0))\n",
    "    print('NV %s:%s\\n' % (label,mean_vecs[label-1]))"
   ]
  },
  {
   "cell_type": "code",
   "execution_count": 16,
   "metadata": {},
   "outputs": [
    {
     "name": "stdout",
     "output_type": "stream",
     "text": [
      "Within-class scatter matrix: 13 x 13\n"
     ]
    }
   ],
   "source": [
    "d = 13 # 特徴量の個数\n",
    "S_W = np.zeros((d,d))\n",
    "for label,mv in zip(range(1,4),mean_vecs):\n",
    "    class_scatter = np.zeros((d,d))\n",
    "    for row in X_train_std[y_train == label]:\n",
    "        row,mv = row.reshape(d,1),mv.reshape(d,1)\n",
    "        class_scatter += (row -mv).dot((row-mv).T)\n",
    "    S_W += class_scatter\n",
    "    \n",
    "print('Within-class scatter matrix: %s x %s' % (S_W.shape[0],S_W.shape[1]))"
   ]
  },
  {
   "cell_type": "markdown",
   "metadata": {},
   "source": [
    "変動行列を計算するときには、トレニンーグデータセットにおいてクラスラベルが一様に分布していることが前提となる。だが、クラスラベルの個数を出力するとこの前提を満たしていないことがわかる。"
   ]
  },
  {
   "cell_type": "code",
   "execution_count": 17,
   "metadata": {},
   "outputs": [
    {
     "name": "stdout",
     "output_type": "stream",
     "text": [
      "Class label distribution: [41 50 33]\n"
     ]
    }
   ],
   "source": [
    "print('Class label distribution: %s' % np.bincount(y_train)[1:])"
   ]
  },
  {
   "cell_type": "markdown",
   "metadata": {},
   "source": [
    "そのため個々の変動行列$S_i$を合計して変動行列$S_w$を生成する前に、スケーリングが必要である。"
   ]
  },
  {
   "cell_type": "code",
   "execution_count": 18,
   "metadata": {},
   "outputs": [
    {
     "name": "stdout",
     "output_type": "stream",
     "text": [
      "Scaled within-class scatter matrix:13 x 13\n"
     ]
    }
   ],
   "source": [
    "d = 13\n",
    "S_W = np.zeros((d,d))\n",
    "for label,mv in zip(range(1,4),mean_vecs):\n",
    "    class_scatter = np.cov(X_train_std[y_train==label].T)\n",
    "    S_W += class_scatter\n",
    "    \n",
    "print('Scaled within-class scatter matrix:%s x %s' % (S_W.shape[0],S_W.shape[1]))"
   ]
  },
  {
   "cell_type": "code",
   "execution_count": 19,
   "metadata": {},
   "outputs": [
    {
     "name": "stdout",
     "output_type": "stream",
     "text": [
      "Between - class scatter matrix: 13x13\n"
     ]
    }
   ],
   "source": [
    "mean_ovarall = np.mean(X_train_std,axis=0)\n",
    "d = 13\n",
    "S_B = np.zeros((d,d))\n",
    "for i ,mean_vec in enumerate(mean_vecs):\n",
    "    n = X_train[y_train == i+1,:].shape[0]\n",
    "    # 列ベクトルを作成\n",
    "    mean_vec = mean_vec.reshape(d,1)\n",
    "    mean_ovarall = mean_ovarall.reshape(d,1)\n",
    "    S_B += n*(mean_vec - mean_ovarall).dot((mean_vec - mean_ovarall).T)\n",
    "print('Between - class scatter matrix: %sx%s' % (S_B.shape[0],S_B.shape[1]))"
   ]
  },
  {
   "cell_type": "markdown",
   "metadata": {},
   "source": [
    "## 5.2 新しい特徴部分空間の線形判別を選択する\n",
    "LDAの残りの手順は、PCAの手順と似ている。ただし、共分散行列で固有分解を実行するのではなく、行列$S^{-1}_W S_B$の一般化された固有値問題を解く。"
   ]
  },
  {
   "cell_type": "code",
   "execution_count": 20,
   "metadata": {},
   "outputs": [],
   "source": [
    "# inv関数で逆行列、dot関数で行列積、eig関数で固有値を計算\n",
    "eigen_vals,eigen_vecs = np.linalg.eig(np.linalg.inv(S_W).dot(S_B))"
   ]
  },
  {
   "cell_type": "code",
   "execution_count": 21,
   "metadata": {},
   "outputs": [
    {
     "name": "stdout",
     "output_type": "stream",
     "text": [
      "Eigenvals in descending order:\n",
      "\n",
      "349.6178089059939\n",
      "172.76152218979388\n",
      "3.7853134512521556e-14\n",
      "2.117398448224407e-14\n",
      "1.5164618894178885e-14\n",
      "1.5164618894178885e-14\n",
      "1.3579567140455979e-14\n",
      "1.3579567140455979e-14\n",
      "7.587760371654683e-15\n",
      "5.906039984472233e-15\n",
      "5.906039984472233e-15\n",
      "2.256441978569674e-15\n",
      "0.0\n"
     ]
    }
   ],
   "source": [
    "eigen_pairs = [(np.abs(eigen_vals[i]),eigen_vecs[:,i])\n",
    "              for i in range(len(eigen_vals))]\n",
    "eigen_pairs = sorted(eigen_pairs,key=lambda k :k[0],reverse=True)\n",
    "print('Eigenvals in descending order:\\n')\n",
    "for eigen_val in eigen_pairs:\n",
    "    print(eigen_val[0])"
   ]
  },
  {
   "cell_type": "code",
   "execution_count": 23,
   "metadata": {},
   "outputs": [
    {
     "data": {
      "image/png": "[encoded data removed]",
      "text/plain": [
       "<matplotlib.figure.Figure at 0x21e8fba1828>"
      ]
     },
     "metadata": {
      "needs_background": "light"
     },
     "output_type": "display_data"
    }
   ],
   "source": [
    "# 固有値の実数部の総和を求める\n",
    "tot = sum(eigen_vals.real)\n",
    "# 分散説明率とその累計和を計算\n",
    "discr = [(i / tot) for i in sorted(eigen_vals.real,reverse=True)]\n",
    "cum_discr = np.cumsum(discr)\n",
    "plt.bar(range(1,14),discr,alpha=0.5,align='center',\n",
    "       label='indvidual \"discriminability\"')\n",
    "plt.step(range(1,14),cum_discr,where='mid',\n",
    "        label='cumulative \"discriminability\"')\n",
    "plt.ylabel('cumulative \"discriminability\"')\n",
    "plt.xlabel('Linear Discriminants')\n",
    "plt.ylim([-0.1,1.1])\n",
    "plt.legend(loc='best')\n",
    "plt.tight_layout()\n",
    "plt.show()"
   ]
  },
  {
   "cell_type": "code",
   "execution_count": 25,
   "metadata": {},
   "outputs": [
    {
     "name": "stdout",
     "output_type": "stream",
     "text": [
      "Matrix W:\n",
      " [[-0.1481 -0.4092]\n",
      " [ 0.0908 -0.1577]\n",
      " [-0.0168 -0.3537]\n",
      " [ 0.1484  0.3223]\n",
      " [-0.0163 -0.0817]\n",
      " [ 0.1913  0.0842]\n",
      " [-0.7338  0.2823]\n",
      " [-0.075  -0.0102]\n",
      " [ 0.0018  0.0907]\n",
      " [ 0.294  -0.2152]\n",
      " [-0.0328  0.2747]\n",
      " [-0.3547 -0.0124]\n",
      " [-0.3915 -0.5958]]\n"
     ]
    }
   ],
   "source": [
    "# 2つの固有ベクトルから変換行列を作成\n",
    "w = np.hstack((eigen_pairs[0][1][:,np.newaxis].real,\n",
    "              eigen_pairs[1][1][:,np.newaxis].real))\n",
    "print('Matrix W:\\n',w)"
   ]
  },
  {
   "cell_type": "markdown",
   "metadata": {},
   "source": [
    "## 5.2 新しい特徴空間にサンプルを射影する\n",
    "### $X'=XW$"
   ]
  },
  {
   "cell_type": "code",
   "execution_count": 28,
   "metadata": {},
   "outputs": [
    {
     "data": {
      "image/png": "[encoded data removed]",
      "text/plain": [
       "<matplotlib.figure.Figure at 0x21e8fbc0780>"
      ]
     },
     "metadata": {
      "needs_background": "light"
     },
     "output_type": "display_data"
    }
   ],
   "source": [
    "# 標準化したトレーニングデータに変換行列を掛ける\n",
    "X_train_lda = X_train_std.dot(w)\n",
    "colors = ['r','b','g']\n",
    "markers = ['s','x','o']\n",
    "for l,c,m in zip(np.unique(y_train),colors,markers):\n",
    "    plt.scatter(X_train_lda[y_train == l,0],\n",
    "               X_train_lda[y_train==l,1]*(-1),\n",
    "               c=c,label=l,marker=m)\n",
    "\n",
    "plt.xlabel('LD 1')\n",
    "plt.ylabel('LD 2')\n",
    "plt.legend(loc='lower right')\n",
    "plt.tight_layout()\n",
    "plt.show()"
   ]
  },
  {
   "cell_type": "markdown",
   "metadata": {},
   "source": [
    "## scikit-learnによる線形判別分析"
   ]
  },
  {
   "cell_type": "code",
   "execution_count": 30,
   "metadata": {},
   "outputs": [],
   "source": [
    "from sklearn.discriminant_analysis import LinearDiscriminantAnalysis as LDA\n",
    "# 次元数を設定して、LDAのインスタンスを生成\n",
    "lda = LDA(n_components=2)\n",
    "X_train_lda = lda.fit_transform(X_train_std,y_train)"
   ]
  },
  {
   "cell_type": "code",
   "execution_count": 31,
   "metadata": {},
   "outputs": [
    {
     "data": {
      "image/png": "[encoded data removed]",
      "text/plain": [
       "<matplotlib.figure.Figure at 0x21e8fc5e9e8>"
      ]
     },
     "metadata": {
      "needs_background": "light"
     },
     "output_type": "display_data"
    }
   ],
   "source": [
    "lr = LogisticRegression()\n",
    "lr = lr.fit(X_train_lda,y_train)\n",
    "plot_decision_regions(X_train_lda,y_train,classifiier=lr)\n",
    "plt.xlabel('LD 1')\n",
    "plt.ylabel('LD 2')\n",
    "plt.legend(loc='best')\n",
    "plt.tight_layout()\n",
    "plt.show()"
   ]
  },
  {
   "cell_type": "code",
   "execution_count": 32,
   "metadata": {},
   "outputs": [
    {
     "data": {
      "image/png": "[encoded data removed]",
      "text/plain": [
       "<matplotlib.figure.Figure at 0x21e8fd10780>"
      ]
     },
     "metadata": {
      "needs_background": "light"
     },
     "output_type": "display_data"
    }
   ],
   "source": [
    "X_test_lda = lda.transform(X_test_std)\n",
    "plot_decision_regions(X_test_lda,y_test,classifiier=lr)\n",
    "plt.xlabel('LD 1')\n",
    "plt.ylabel('LD 2')\n",
    "plt.legend(loc='best')\n",
    "plt.tight_layout()\n",
    "plt.show()"
   ]
  },
  {
   "cell_type": "markdown",
   "metadata": {},
   "source": [
    "## 5.3 カーネル主成分分析を使った非線形写像\n",
    "**カーネルPCA(KPCA)**を使用して、線形に分離できないデータを変換し、線形分類器に適した新しい低次元の部分空間へ射影する方法を学ぶ。\n",
    "簡単に説明するとデータをより高い次元へと射影したあとに、PCAを使用して線形分類器で分離できるようにする手法。"
   ]
  },
  {
   "cell_type": "code",
   "execution_count": 33,
   "metadata": {},
   "outputs": [],
   "source": [
    "from scipy.spatial.distance import pdist,squareform\n",
    "from scipy import exp\n",
    "from scipy.linalg import eigh\n",
    "import numpy as np\n",
    "\n",
    "def rbf_kernel_pca(X,gamma,n_components):\n",
    "    \n",
    "    \"\"\"RBFカーネルPCAの実装\n",
    "    \n",
    "    パラメータ\n",
    "    ----------------------\n",
    "    X:(Numpy ndarray),shape=[n_samples,n_features]\n",
    "    \n",
    "    gamma:float\n",
    "        RBFカーネルのチューニングパラメータ\n",
    "        \n",
    "    n_components:int\n",
    "        返される主成分の個数\n",
    "        \n",
    "    戻り値\n",
    "    ----------------------\n",
    "    X_pca:(Numpy ndarray),shape=[n_samples,k_features]\n",
    "        射影されたデータセット\n",
    "        \n",
    "    \"\"\"\n",
    "    \n",
    "    #  M*N次元のデータセットでペアごとのユークリッド距離の2乗を計算\n",
    "    sq_dists = pdist(X,'sqeuclidean')\n",
    "    # ペアごとの距離を正方行列に変換\n",
    "    mat_sq_dists = squareform(sq_dists)\n",
    "    \n",
    "    # 対称カーネル行列を計算\n",
    "    K = exp(-gamma * mat_sq_dists)\n",
    "    \n",
    "    # カーネル行列を中心化\n",
    "    N = K.shape[0]\n",
    "    one_n = np.ones((N,N))/N\n",
    "    K = K - one_n.dot(K) - K.dot(one_n) + one_n.dot(k).dot(one_n)\n",
    "    \n",
    "    # 中心化されたカーネル行列から固有対を取得\n",
    "    # scipy.linlg.eighはそれらを昇順で返す\n",
    "    eigvals,eigvecs = eigh(K)\n",
    "    eigvals,eigvecs = eigvals[::-1],eigvecs[:,::-1]\n",
    "    \n",
    "    # 上位k個の固有ベクトル（射影されたサンプル）を収集\n",
    "    X_pc = np.column_stack((eigvecs[:,i]\n",
    "                           for i in range(n_components)))\n",
    "    \n",
    "    return X_pc"
   ]
  },
  {
   "cell_type": "code",
   "execution_count": 34,
   "metadata": {},
   "outputs": [
    {
     "data": {
      "image/png": "[encoded data removed]",
      "text/plain": [
       "<matplotlib.figure.Figure at 0x21e8fc82ac8>"
      ]
     },
     "metadata": {
      "needs_background": "light"
     },
     "output_type": "display_data"
    }
   ],
   "source": [
    "# 2つの半月形データを作成してプロット\n",
    "from sklearn.datasets import make_moons\n",
    "X,y = make_moons(n_samples=100,random_state=123)\n",
    "plt.scatter(X[y==0,0],X[y==0,1],color='red',marker='^',alpha=0.5)\n",
    "plt.scatter(X[y==1,0],X[y==1,1],color='blue',marker='o',alpha=0.5)\n",
    "plt.tight_layout()\n",
    "plt.show()"
   ]
  },
  {
   "cell_type": "code",
   "execution_count": null,
   "metadata": {},
   "outputs": [],
   "source": []
  }
 ],
 "metadata": {
  "kernelspec": {
   "display_name": "Python 3",
   "language": "python",
   "name": "python3"
  },
  "language_info": {
   "codemirror_mode": {
    "name": "ipython",
    "version": 3
   },
   "file_extension": ".py",
   "mimetype": "text/x-python",
   "name": "python",
   "nbconvert_exporter": "python",
   "pygments_lexer": "ipython3",
   "version": "3.6.4"
  }
 },
 "nbformat": 4,
 "nbformat_minor": 2
}
